{
 "cells": [
  {
   "cell_type": "markdown",
   "metadata": {},
   "source": [
    "Hello! Thank you for checking out our tool.\n",
    "\n",
    "The purpose of this demo is demonstrate some of the basics. In doing so, we will generate a flipset for one individual. In doing so, we'll show:\n",
    "\n",
    "1. How to use the ActionSet interface to specify immutable variables and variables with custom ranges.\n",
    "2. How to use a model to align an ActionSet\n",
    "3. How to use the RecourseBuilder interface to find the feasibility of one person.\n",
    "\n",
    "We'll work using CPLEX. The problem is equivalent for CBC. To install either package, read [here](https://github.com/ustunb/actionable-recourse/blob/master/README.md)."
   ]
  },
  {
   "cell_type": "code",
   "execution_count": 1,
   "metadata": {},
   "outputs": [],
   "source": [
    "import os\n",
    "import numpy as np\n",
    "import pandas as pd\n",
    "from sklearn.linear_model import LogisticRegression\n",
    "from sklearn.model_selection import GridSearchCV\n",
    "from recourse.builder import RecourseBuilder\n",
    "from recourse.builder import ActionSet\n"
   ]
  },
  {
   "cell_type": "markdown",
   "metadata": {},
   "source": [
    "# Read in the data"
   ]
  },
  {
   "cell_type": "markdown",
   "metadata": {},
   "source": [
    "To start out, we need to read in and process a dataset. We'll read in the `german` credit reporting dataset and do some light processing. You can find more information about this dataset [here](https://archive.ics.uci.edu/ml/datasets/statlog+(german+credit+data)). A processed version of this dataset is included in our repository for the purposes of this demo.\n",
    "\n",
    "We convert categorical columns to binary where possible and drop other more complicated categorical columns. In the near future, we will be able to support auditing over these features as well."
   ]
  },
  {
   "cell_type": "code",
   "execution_count": 2,
   "metadata": {},
   "outputs": [],
   "source": [
    "data_dir = \"../data/\"\n",
    "data_name = 'german'\n",
    "data_file = os.path.join(data_dir, '%s_processed.csv' % data_name)\n",
    "## load and process data\n",
    "german_df = pd.read_csv(data_file).reset_index(drop=True)\n",
    "german_df = (german_df\n",
    "             .assign(isMale=lambda df: (df['Gender']=='Male').astype(int))\n",
    "             .drop(['PurposeOfLoan', 'Gender', 'OtherLoansAtStore'], axis=1)\n",
    "            )\n",
    "\n",
    "y = german_df['GoodCustomer']\n",
    "X = german_df.drop('GoodCustomer', axis=1)"
   ]
  },
  {
   "cell_type": "markdown",
   "metadata": {},
   "source": [
    "Now let's set up our training sets."
   ]
  },
  {
   "cell_type": "code",
   "execution_count": 70,
   "metadata": {},
   "outputs": [],
   "source": [
    "action_set = ActionSet(X = X)\n",
    "action_set['Age'].mutable = False\n",
    "action_set['Single'].mutable = False\n",
    "action_set['JobClassIsSkilled'].mutable = False\n",
    "action_set['ForeignWorker'].mutable = False\n",
    "action_set['OwnsHouse'].mutable = False\n",
    "action_set['RentsHouse'].mutable = False\n",
    "action_set['isMale'].mutable = False"
   ]
  },
  {
   "cell_type": "markdown",
   "metadata": {},
   "source": [
    "Ok, great, we've instantialized an `ActionSet` and determined some features that we'd like to call immutable. Let's check what we've got so far:"
   ]
  },
  {
   "cell_type": "code",
   "execution_count": 71,
   "metadata": {},
   "outputs": [
    {
     "data": {
      "text/plain": [
       "+---------------------------------+---------------+---------+------------+----------------+----------------+-----------+-----------+-----------+-------+---------+\n",
       "|                            name | variable type | mutable | actionable | step direction | flip direction | grid size | step type | step size |    lb |      ub |\n",
       "+---------------------------------+---------------+---------+------------+----------------+----------------+-----------+-----------+-----------+-------+---------+\n",
       "|                   ForeignWorker |           int |   False |      False |              0 |            nan |         2 |  relative |      0.01 |   0.0 |     1.0 |\n",
       "|                          Single |           int |   False |      False |              0 |            nan |         2 |  relative |      0.01 |   0.0 |     1.0 |\n",
       "|                             Age |           int |   False |      False |              0 |            nan |        49 |  relative |      0.01 |  20.0 |    68.0 |\n",
       "|                    LoanDuration |           int |    True |       True |              0 |            nan |        55 |  relative |      0.01 |   6.0 |    60.0 |\n",
       "|                      LoanAmount |           int |    True |       True |              0 |            nan |       101 |  relative |      0.01 | 425.0 | 14181.0 |\n",
       "|       LoanRateAsPercentOfIncome |           int |    True |       True |              0 |            nan |         4 |  relative |      0.01 |   1.0 |     4.0 |\n",
       "|              YearsAtCurrentHome |           int |    True |       True |              0 |            nan |         4 |  relative |      0.01 |   1.0 |     4.0 |\n",
       "|        NumberOfOtherLoansAtBank |           int |    True |       True |              0 |            nan |         3 |  relative |      0.01 |   1.0 |     3.0 |\n",
       "|       NumberOfLiableIndividuals |           int |    True |       True |              0 |            nan |         2 |  relative |      0.01 |   1.0 |     2.0 |\n",
       "|                    HasTelephone |           int |    True |       True |              0 |            nan |         2 |  relative |      0.01 |   0.0 |     1.0 |\n",
       "|    CheckingAccountBalance_geq_0 |           int |    True |       True |              0 |            nan |         2 |  relative |      0.01 |   0.0 |     1.0 |\n",
       "|  CheckingAccountBalance_geq_200 |           int |    True |       True |              0 |            nan |         2 |  relative |      0.01 |   0.0 |     1.0 |\n",
       "|   SavingsAccountBalance_geq_100 |           int |    True |       True |              0 |            nan |         2 |  relative |      0.01 |   0.0 |     1.0 |\n",
       "|   SavingsAccountBalance_geq_500 |           int |    True |       True |              0 |            nan |         2 |  relative |      0.01 |   0.0 |     1.0 |\n",
       "|                  MissedPayments |           int |    True |       True |              0 |            nan |         2 |  relative |      0.01 |   0.0 |     1.0 |\n",
       "|                   NoCurrentLoan |           int |    True |       True |              0 |            nan |         2 |  relative |      0.01 |   0.0 |     1.0 |\n",
       "| CriticalAccountOrLoansElsewhere |           int |    True |       True |              0 |            nan |         2 |  relative |      0.01 |   0.0 |     1.0 |\n",
       "|                OtherLoansAtBank |           int |    True |       True |              0 |            nan |         2 |  relative |      0.01 |   0.0 |     1.0 |\n",
       "|                  HasCoapplicant |           int |    True |       True |              0 |            nan |         2 |  relative |      0.01 |   0.0 |     1.0 |\n",
       "|                    HasGuarantor |           int |    True |       True |              0 |            nan |         2 |  relative |      0.01 |   0.0 |     1.0 |\n",
       "|                       OwnsHouse |           int |   False |      False |              0 |            nan |         2 |  relative |      0.01 |   0.0 |     1.0 |\n",
       "|                      RentsHouse |           int |   False |      False |              0 |            nan |         2 |  relative |      0.01 |   0.0 |     1.0 |\n",
       "|                      Unemployed |           int |    True |       True |              0 |            nan |         2 |  relative |      0.01 |   0.0 |     1.0 |\n",
       "|          YearsAtCurrentJob_lt_1 |           int |    True |       True |              0 |            nan |         2 |  relative |      0.01 |   0.0 |     1.0 |\n",
       "|         YearsAtCurrentJob_geq_4 |           int |    True |       True |              0 |            nan |         2 |  relative |      0.01 |   0.0 |     1.0 |\n",
       "|               JobClassIsSkilled |           int |   False |      False |              0 |            nan |         2 |  relative |      0.01 |   0.0 |     1.0 |\n",
       "|                          isMale |           int |   False |      False |              0 |            nan |         2 |  relative |      0.01 |   0.0 |     1.0 |\n",
       "+---------------------------------+---------------+---------+------------+----------------+----------------+-----------+-----------+-----------+-------+---------+"
      ]
     },
     "execution_count": 71,
     "metadata": {},
     "output_type": "execute_result"
    }
   ],
   "source": [
    "action_set"
   ]
  },
  {
   "cell_type": "markdown",
   "metadata": {},
   "source": [
    "There's a lot of stuff baked in here. Let's walk through some of it.\n",
    "\n",
    "* You can see that every feature has a `lb` and an `ub`. These specify the lower and upper bounds for that feature, which we derived by looking at the 100th percentile of each feature.\n",
    "* All the features have defaulted to `step_type=relative` and `step_size=.01`. This means that when we consider potential actions, we take steps of size $1%$ through the feasible space. So, for example, if you observe in the dataset that `LoanAmount` ranges from $\\$100$ to $\\$200$, your actions would be: $\\$100, \\$101, \\$102,...\\$200$. Other `step_types` are: `absolute` and `percentile`. `Absolute` means you can specify a positive real, (any positive real!) and we'll step at that amount. `Percentile` means we'll consider one action to be `step_size` percentile shift.\n",
    "* This leads us naturally into the `action_grid`. This is a grid we set up based on `step_size` and `step_type`. We've already setup grids for these features. These will discretize continuous variables for you. Check out our paper to see how this is optimal and equivalent to treating these features as continuous. Plus, it makes your wait-time a lot slower.\n",
    "\n",
    "See how much time and processing you save just by passing in the dataset? Told you it was worth it."
   ]
  },
  {
   "cell_type": "markdown",
   "metadata": {},
   "source": [
    "But ok, in the real world you might want change. GObama. Let's see how to do that. We'll take `LoanDuration`. These are what some of the attributes look like:"
   ]
  },
  {
   "cell_type": "code",
   "execution_count": 72,
   "metadata": {},
   "outputs": [
    {
     "data": {
      "text/plain": [
       "'LoanDuration': (6.0, 60.0)"
      ]
     },
     "execution_count": 72,
     "metadata": {},
     "output_type": "execute_result"
    }
   ],
   "source": [
    "action_set['LoanDuration']\n",
    "## default str shows (lb, ub)"
   ]
  },
  {
   "cell_type": "code",
   "execution_count": 73,
   "metadata": {},
   "outputs": [
    {
     "data": {
      "text/plain": [
       "0.01"
      ]
     },
     "execution_count": 73,
     "metadata": {},
     "output_type": "execute_result"
    }
   ],
   "source": [
    "action_set['LoanDuration'].step_size"
   ]
  },
  {
   "cell_type": "markdown",
   "metadata": {},
   "source": [
    "To change `step_size`, we can simply set another value. UCI tells us that this is measured in months. Let's say we only want to consider 6-month intervals."
   ]
  },
  {
   "cell_type": "code",
   "execution_count": 9,
   "metadata": {},
   "outputs": [
    {
     "ename": "AssertionError",
     "evalue": "",
     "traceback": [
      "\u001b[0;31m---------------------------------------------------------------------------\u001b[0m",
      "\u001b[0;31mAssertionError\u001b[0m                            Traceback (most recent call last)",
      "\u001b[0;32m<ipython-input-9-79eaa818428c>\u001b[0m in \u001b[0;36m<module>\u001b[0;34m\u001b[0m\n\u001b[0;32m----> 1\u001b[0;31m \u001b[0maction_set\u001b[0m\u001b[0;34m[\u001b[0m\u001b[0;34m'LoanDuration'\u001b[0m\u001b[0;34m]\u001b[0m\u001b[0;34m.\u001b[0m\u001b[0mstep_size\u001b[0m \u001b[0;34m=\u001b[0m \u001b[0;36m6\u001b[0m\u001b[0;34m\u001b[0m\u001b[0m\n\u001b[0m",
      "\u001b[0;32m/mnt/c/Users/alex2/Projects/berk-research/actionable-recourse/recourse/action_set.py\u001b[0m in \u001b[0;36mstep_size\u001b[0;34m(self, s)\u001b[0m\n\u001b[1;32m    384\u001b[0m         \u001b[0;32massert\u001b[0m \u001b[0mnp\u001b[0m\u001b[0;34m.\u001b[0m\u001b[0mgreater\u001b[0m\u001b[0;34m(\u001b[0m\u001b[0ms\u001b[0m\u001b[0;34m,\u001b[0m \u001b[0;36m0.0\u001b[0m\u001b[0;34m)\u001b[0m\u001b[0;34m\u001b[0m\u001b[0m\n\u001b[1;32m    385\u001b[0m         \u001b[0;32mif\u001b[0m \u001b[0mself\u001b[0m\u001b[0;34m.\u001b[0m\u001b[0m_step_type\u001b[0m \u001b[0;34m==\u001b[0m \u001b[0;34m'relative'\u001b[0m\u001b[0;34m:\u001b[0m\u001b[0;34m\u001b[0m\u001b[0m\n\u001b[0;32m--> 386\u001b[0;31m             \u001b[0;32massert\u001b[0m \u001b[0mnp\u001b[0m\u001b[0;34m.\u001b[0m\u001b[0mless_equal\u001b[0m\u001b[0;34m(\u001b[0m\u001b[0ms\u001b[0m\u001b[0;34m,\u001b[0m \u001b[0;36m1.0\u001b[0m\u001b[0;34m)\u001b[0m\u001b[0;34m\u001b[0m\u001b[0m\n\u001b[0m\u001b[1;32m    387\u001b[0m         \u001b[0mself\u001b[0m\u001b[0;34m.\u001b[0m\u001b[0m_step_size\u001b[0m \u001b[0;34m=\u001b[0m \u001b[0mfloat\u001b[0m\u001b[0;34m(\u001b[0m\u001b[0ms\u001b[0m\u001b[0;34m)\u001b[0m\u001b[0;34m\u001b[0m\u001b[0m\n\u001b[1;32m    388\u001b[0m \u001b[0;34m\u001b[0m\u001b[0m\n",
      "\u001b[0;31mAssertionError\u001b[0m: "
     ],
     "output_type": "error"
    }
   ],
   "source": [
    "action_set['LoanDuration'].step_size = 6"
   ]
  },
  {
   "cell_type": "markdown",
   "metadata": {},
   "source": [
    "Whoops, we got an assertion error. Let's make sure to change the `step_type` first."
   ]
  },
  {
   "cell_type": "code",
   "execution_count": 74,
   "metadata": {},
   "outputs": [],
   "source": [
    "action_set['LoanDuration'].step_type =\"absolute\"\n",
    "action_set['LoanDuration'].step_size = 6"
   ]
  },
  {
   "cell_type": "markdown",
   "metadata": {},
   "source": [
    "Great. Now let's look at the bounds:"
   ]
  },
  {
   "cell_type": "code",
   "execution_count": 75,
   "metadata": {},
   "outputs": [
    {
     "data": {
      "text/plain": [
       "'LoanDuration': (6.0, 60.0)"
      ]
     },
     "execution_count": 75,
     "metadata": {},
     "output_type": "execute_result"
    }
   ],
   "source": [
    "action_set['LoanDuration']"
   ]
  },
  {
   "cell_type": "markdown",
   "metadata": {},
   "source": [
    "To set bounds:"
   ]
  },
  {
   "cell_type": "code",
   "execution_count": 76,
   "metadata": {},
   "outputs": [],
   "source": [
    "action_set['LoanDuration'].bounds = (1, 100)"
   ]
  },
  {
   "cell_type": "code",
   "execution_count": 77,
   "metadata": {},
   "outputs": [
    {
     "data": {
      "text/plain": [
       "'LoanDuration': (1.0, 100.0)"
      ]
     },
     "execution_count": 77,
     "metadata": {},
     "output_type": "execute_result"
    }
   ],
   "source": [
    "action_set['LoanDuration']"
   ]
  },
  {
   "cell_type": "markdown",
   "metadata": {},
   "source": [
    "# Train model"
   ]
  },
  {
   "cell_type": "markdown",
   "metadata": {},
   "source": [
    "Ok great, now let's get into the meat of it. Let's train up a model as see what recourse exists."
   ]
  },
  {
   "cell_type": "code",
   "execution_count": 21,
   "metadata": {},
   "outputs": [],
   "source": [
    "## grid search\n",
    "clf = LogisticRegression(max_iter=1000, solver='lbfgs')\n",
    "grid = GridSearchCV(\n",
    "  clf, param_grid={'C': np.logspace(-4, 3)},\n",
    "  cv=10,\n",
    "  scoring='roc_auc',\n",
    "  return_train_score=True\n",
    ")\n",
    "grid.fit(X, y)\n",
    "clf = grid.best_estimator_"
   ]
  },
  {
   "cell_type": "code",
   "execution_count": 78,
   "metadata": {},
   "outputs": [],
   "source": [
    "coefficients = clf.coef_[0]\n",
    "intercept = clf.intercept_[0]"
   ]
  },
  {
   "cell_type": "markdown",
   "metadata": {},
   "source": [
    "Ok cool, now that we have our model, we can do some exciting stuff. First things first, we need to align our `ActionSet`. What this means is that our `ActionSet` didn't know yet which directions were the _right_ directions to step in. The coefficients will tell it that."
   ]
  },
  {
   "cell_type": "code",
   "execution_count": 79,
   "metadata": {},
   "outputs": [],
   "source": [
    "action_set.align(coefficients=coefficients)"
   ]
  },
  {
   "cell_type": "markdown",
   "metadata": {},
   "source": [
    "Hold on, let's do a quick check. Sometimes, coefficients can be misleading for a host of reasons:\n",
    "* A confounder can switch the direction.\n",
    "* A collinear feature could negative or also flip the direction."
   ]
  },
  {
   "cell_type": "code",
   "execution_count": 80,
   "metadata": {},
   "outputs": [
    {
     "data": {
      "text/html": [
       "<div>\n",
       "<style scoped>\n",
       "    .dataframe tbody tr th:only-of-type {\n",
       "        vertical-align: middle;\n",
       "    }\n",
       "\n",
       "    .dataframe tbody tr th {\n",
       "        vertical-align: top;\n",
       "    }\n",
       "\n",
       "    .dataframe thead th {\n",
       "        text-align: right;\n",
       "    }\n",
       "</style>\n",
       "<table border=\"1\" class=\"dataframe\">\n",
       "  <thead>\n",
       "    <tr style=\"text-align: right;\">\n",
       "      <th></th>\n",
       "      <th>Coefficients</th>\n",
       "    </tr>\n",
       "  </thead>\n",
       "  <tbody>\n",
       "    <tr>\n",
       "      <th>ForeignWorker</th>\n",
       "      <td>0.278401</td>\n",
       "    </tr>\n",
       "    <tr>\n",
       "      <th>Single</th>\n",
       "      <td>0.194679</td>\n",
       "    </tr>\n",
       "    <tr>\n",
       "      <th>Age</th>\n",
       "      <td>0.016623</td>\n",
       "    </tr>\n",
       "    <tr>\n",
       "      <th>LoanDuration</th>\n",
       "      <td>-0.024562</td>\n",
       "    </tr>\n",
       "    <tr>\n",
       "      <th>LoanAmount</th>\n",
       "      <td>-0.000075</td>\n",
       "    </tr>\n",
       "    <tr>\n",
       "      <th>LoanRateAsPercentOfIncome</th>\n",
       "      <td>-0.240661</td>\n",
       "    </tr>\n",
       "    <tr>\n",
       "      <th>YearsAtCurrentHome</th>\n",
       "      <td>0.059362</td>\n",
       "    </tr>\n",
       "    <tr>\n",
       "      <th>NumberOfOtherLoansAtBank</th>\n",
       "      <td>-0.162192</td>\n",
       "    </tr>\n",
       "    <tr>\n",
       "      <th>NumberOfLiableIndividuals</th>\n",
       "      <td>0.011381</td>\n",
       "    </tr>\n",
       "    <tr>\n",
       "      <th>HasTelephone</th>\n",
       "      <td>0.363301</td>\n",
       "    </tr>\n",
       "    <tr>\n",
       "      <th>CheckingAccountBalance_geq_0</th>\n",
       "      <td>-0.303116</td>\n",
       "    </tr>\n",
       "    <tr>\n",
       "      <th>CheckingAccountBalance_geq_200</th>\n",
       "      <td>0.220313</td>\n",
       "    </tr>\n",
       "    <tr>\n",
       "      <th>SavingsAccountBalance_geq_100</th>\n",
       "      <td>0.392598</td>\n",
       "    </tr>\n",
       "    <tr>\n",
       "      <th>SavingsAccountBalance_geq_500</th>\n",
       "      <td>0.464606</td>\n",
       "    </tr>\n",
       "    <tr>\n",
       "      <th>MissedPayments</th>\n",
       "      <td>0.203194</td>\n",
       "    </tr>\n",
       "    <tr>\n",
       "      <th>NoCurrentLoan</th>\n",
       "      <td>-0.513624</td>\n",
       "    </tr>\n",
       "    <tr>\n",
       "      <th>CriticalAccountOrLoansElsewhere</th>\n",
       "      <td>0.740741</td>\n",
       "    </tr>\n",
       "    <tr>\n",
       "      <th>OtherLoansAtBank</th>\n",
       "      <td>-0.549653</td>\n",
       "    </tr>\n",
       "    <tr>\n",
       "      <th>HasCoapplicant</th>\n",
       "      <td>-0.212085</td>\n",
       "    </tr>\n",
       "    <tr>\n",
       "      <th>HasGuarantor</th>\n",
       "      <td>0.318791</td>\n",
       "    </tr>\n",
       "    <tr>\n",
       "      <th>OwnsHouse</th>\n",
       "      <td>0.643535</td>\n",
       "    </tr>\n",
       "    <tr>\n",
       "      <th>RentsHouse</th>\n",
       "      <td>0.097317</td>\n",
       "    </tr>\n",
       "    <tr>\n",
       "      <th>Unemployed</th>\n",
       "      <td>-0.149537</td>\n",
       "    </tr>\n",
       "    <tr>\n",
       "      <th>YearsAtCurrentJob_lt_1</th>\n",
       "      <td>-0.177748</td>\n",
       "    </tr>\n",
       "    <tr>\n",
       "      <th>YearsAtCurrentJob_geq_4</th>\n",
       "      <td>0.387240</td>\n",
       "    </tr>\n",
       "    <tr>\n",
       "      <th>JobClassIsSkilled</th>\n",
       "      <td>0.218455</td>\n",
       "    </tr>\n",
       "    <tr>\n",
       "      <th>isMale</th>\n",
       "      <td>0.125850</td>\n",
       "    </tr>\n",
       "  </tbody>\n",
       "</table>\n",
       "</div>"
      ],
      "text/plain": [
       "                                 Coefficients\n",
       "ForeignWorker                        0.278401\n",
       "Single                               0.194679\n",
       "Age                                  0.016623\n",
       "LoanDuration                        -0.024562\n",
       "LoanAmount                          -0.000075\n",
       "LoanRateAsPercentOfIncome           -0.240661\n",
       "YearsAtCurrentHome                   0.059362\n",
       "NumberOfOtherLoansAtBank            -0.162192\n",
       "NumberOfLiableIndividuals            0.011381\n",
       "HasTelephone                         0.363301\n",
       "CheckingAccountBalance_geq_0        -0.303116\n",
       "CheckingAccountBalance_geq_200       0.220313\n",
       "SavingsAccountBalance_geq_100        0.392598\n",
       "SavingsAccountBalance_geq_500        0.464606\n",
       "MissedPayments                       0.203194\n",
       "NoCurrentLoan                       -0.513624\n",
       "CriticalAccountOrLoansElsewhere      0.740741\n",
       "OtherLoansAtBank                    -0.549653\n",
       "HasCoapplicant                      -0.212085\n",
       "HasGuarantor                         0.318791\n",
       "OwnsHouse                            0.643535\n",
       "RentsHouse                           0.097317\n",
       "Unemployed                          -0.149537\n",
       "YearsAtCurrentJob_lt_1              -0.177748\n",
       "YearsAtCurrentJob_geq_4              0.387240\n",
       "JobClassIsSkilled                    0.218455\n",
       "isMale                               0.125850"
      ]
     },
     "execution_count": 80,
     "metadata": {},
     "output_type": "execute_result"
    }
   ],
   "source": [
    "pd.Series(coefficients, index=X.columns).to_frame('Coefficients')"
   ]
  },
  {
   "cell_type": "markdown",
   "metadata": {},
   "source": [
    "Hmmm that's odd. `CriticalAccountOrLoansElsewhere` is a positive coefficient, meaning that opening more accounts elsewhere will _help_ someone flip their prediction. It very well might be predictive within the confines of this model, but we're looking for more than predictive power, here. We're not quite looking for causality, but still, we certainly don't want to actively encourage someone to do something that we know a-priori will be bad for them.\n",
    "\n",
    "When we notice weird stuff like that, we can easily hop into the interfact and change it."
   ]
  },
  {
   "cell_type": "code",
   "execution_count": 81,
   "metadata": {},
   "outputs": [],
   "source": [
    "action_set['CriticalAccountOrLoansElsewhere'].step_direction = -1\n",
    "action_set['CheckingAccountBalance_geq_0'].step_direction = 1"
   ]
  },
  {
   "cell_type": "markdown",
   "metadata": {},
   "source": [
    "# Generate Recourse"
   ]
  },
  {
   "cell_type": "markdown",
   "metadata": {},
   "source": [
    "First, let's score everyone using our model. Now, let's say that we will give loans to anyone with a greater than a $80\\%$ chance of paying it back"
   ]
  },
  {
   "cell_type": "code",
   "execution_count": 82,
   "metadata": {},
   "outputs": [],
   "source": [
    "scores = pd.Series(clf.predict_proba(X)[:, 1])"
   ]
  },
  {
   "cell_type": "code",
   "execution_count": 83,
   "metadata": {},
   "outputs": [
    {
     "data": {
      "text/plain": [
       "1    0.359034\n",
       "3    0.650483\n",
       "4    0.527647\n",
       "5    0.488228\n",
       "7    0.498478\n",
       "dtype: float64"
      ]
     },
     "execution_count": 83,
     "metadata": {},
     "output_type": "execute_result"
    }
   ],
   "source": [
    "scores.loc[lambda s: s<.8].head()"
   ]
  },
  {
   "cell_type": "code",
   "execution_count": 84,
   "metadata": {},
   "outputs": [
    {
     "data": {
      "text/plain": [
       "(664,)"
      ]
     },
     "execution_count": 84,
     "metadata": {},
     "output_type": "execute_result"
    }
   ],
   "source": [
    "scores.loc[lambda s: s<.8].shape"
   ]
  },
  {
   "cell_type": "markdown",
   "metadata": {},
   "source": [
    "That's quite a few people in our dataset that won't be able to qualify for a loan. Let's see what one of them can do."
   ]
  },
  {
   "cell_type": "code",
   "execution_count": 85,
   "metadata": {},
   "outputs": [],
   "source": [
    "denied_individuals = scores.loc[lambda s: s < .8].index"
   ]
  },
  {
   "cell_type": "code",
   "execution_count": 86,
   "metadata": {},
   "outputs": [],
   "source": [
    "x = X.values[denied_individuals[0]]\n",
    "\n",
    "p = .8\n",
    "rb = RecourseBuilder(\n",
    "      optimizer=\"cplex\",\n",
    "      coefficients=coefficients,\n",
    "      intercept=intercept- (np.log(p / (1. - p))),\n",
    "      action_set=action_set,\n",
    "      x=x\n",
    ")"
   ]
  },
  {
   "cell_type": "markdown",
   "metadata": {},
   "source": [
    "You can switch optimizers if you don't have CPLEX by setting `optimizer=\"cbc\"`. \n",
    "\n",
    "A quick note: Our decision boundary is by default 0. We shift this by tweaking the intercept. Since we used Logistic Regression, we use the trick above to do that. In future iterations, we will provide a more elegant way of doing this."
   ]
  },
  {
   "cell_type": "code",
   "execution_count": 87,
   "metadata": {},
   "outputs": [
    {
     "data": {
      "text/plain": [
       "{'feasible': True,\n",
       " 'status': 'integer optimal solution',\n",
       " 'status_code': 101,\n",
       " 'actions': array([ 0.00e+00,  0.00e+00,  0.00e+00, -2.00e+01, -1.11e+03,  0.00e+00,\n",
       "        -0.00e+00,  0.00e+00, -0.00e+00, -0.00e+00,  0.00e+00,  1.00e+00,\n",
       "         1.00e+00,  1.00e+00,  0.00e+00,  0.00e+00,  0.00e+00,  0.00e+00,\n",
       "         0.00e+00,  1.00e+00,  0.00e+00,  0.00e+00,  0.00e+00,  0.00e+00,\n",
       "        -0.00e+00,  0.00e+00,  0.00e+00]),\n",
       " 'costs': array([ 0.        ,  0.        ,  0.        ,  0.19138937,  0.05527816,\n",
       "        -0.        , -0.        ,  0.        , -0.        , -0.        ,\n",
       "         0.        ,  0.06299998,  0.21399989,  0.11099996,  0.        ,\n",
       "         0.        ,  0.        ,  0.        ,  0.        ,  0.05199999,\n",
       "         0.        ,  0.        ,  0.        ,  0.        , -0.        ,\n",
       "         0.        ,  0.        ]),\n",
       " 'upperbound': 0.21404602566602277,\n",
       " 'lowerbound': 0.2140460256660228,\n",
       " 'gap': 0.0,\n",
       " 'iterations': 42,\n",
       " 'nodes_processed': 0,\n",
       " 'nodes_remaining': 0,\n",
       " 'total_cost': 0.21399988942195836,\n",
       " 'runtime': 0.011816024780273438}"
      ]
     },
     "execution_count": 87,
     "metadata": {},
     "output_type": "execute_result"
    }
   ],
   "source": [
    "output_1 = rb.fit()\n",
    "output_1"
   ]
  },
  {
   "cell_type": "markdown",
   "metadata": {},
   "source": [
    "Ok, great, we have a solution! This individual has recourse. The total cost of all the actions needed to flip their prediction is the first thing of interest to us. It costs this person $.21$, meaning that the sum of percentile shifts across this person's features is $.21$. That's quite a lot. Imagine having to shift that much relative to a population? Let's check out what this means in terms of actions:"
   ]
  },
  {
   "cell_type": "code",
   "execution_count": 88,
   "metadata": {},
   "outputs": [
    {
     "data": {
      "text/html": [
       "<div>\n",
       "<style scoped>\n",
       "    .dataframe tbody tr th:only-of-type {\n",
       "        vertical-align: middle;\n",
       "    }\n",
       "\n",
       "    .dataframe tbody tr th {\n",
       "        vertical-align: top;\n",
       "    }\n",
       "\n",
       "    .dataframe thead th {\n",
       "        text-align: right;\n",
       "    }\n",
       "</style>\n",
       "<table border=\"1\" class=\"dataframe\">\n",
       "  <thead>\n",
       "    <tr style=\"text-align: right;\">\n",
       "      <th></th>\n",
       "      <th>Actions</th>\n",
       "    </tr>\n",
       "  </thead>\n",
       "  <tbody>\n",
       "    <tr>\n",
       "      <th>ForeignWorker</th>\n",
       "      <td>0.0</td>\n",
       "    </tr>\n",
       "    <tr>\n",
       "      <th>Single</th>\n",
       "      <td>0.0</td>\n",
       "    </tr>\n",
       "    <tr>\n",
       "      <th>Age</th>\n",
       "      <td>0.0</td>\n",
       "    </tr>\n",
       "    <tr>\n",
       "      <th>LoanDuration</th>\n",
       "      <td>-20.0</td>\n",
       "    </tr>\n",
       "    <tr>\n",
       "      <th>LoanAmount</th>\n",
       "      <td>-1110.0</td>\n",
       "    </tr>\n",
       "    <tr>\n",
       "      <th>LoanRateAsPercentOfIncome</th>\n",
       "      <td>0.0</td>\n",
       "    </tr>\n",
       "    <tr>\n",
       "      <th>YearsAtCurrentHome</th>\n",
       "      <td>-0.0</td>\n",
       "    </tr>\n",
       "    <tr>\n",
       "      <th>NumberOfOtherLoansAtBank</th>\n",
       "      <td>0.0</td>\n",
       "    </tr>\n",
       "    <tr>\n",
       "      <th>NumberOfLiableIndividuals</th>\n",
       "      <td>-0.0</td>\n",
       "    </tr>\n",
       "    <tr>\n",
       "      <th>HasTelephone</th>\n",
       "      <td>-0.0</td>\n",
       "    </tr>\n",
       "    <tr>\n",
       "      <th>CheckingAccountBalance_geq_0</th>\n",
       "      <td>0.0</td>\n",
       "    </tr>\n",
       "    <tr>\n",
       "      <th>CheckingAccountBalance_geq_200</th>\n",
       "      <td>1.0</td>\n",
       "    </tr>\n",
       "    <tr>\n",
       "      <th>SavingsAccountBalance_geq_100</th>\n",
       "      <td>1.0</td>\n",
       "    </tr>\n",
       "    <tr>\n",
       "      <th>SavingsAccountBalance_geq_500</th>\n",
       "      <td>1.0</td>\n",
       "    </tr>\n",
       "    <tr>\n",
       "      <th>MissedPayments</th>\n",
       "      <td>0.0</td>\n",
       "    </tr>\n",
       "    <tr>\n",
       "      <th>NoCurrentLoan</th>\n",
       "      <td>0.0</td>\n",
       "    </tr>\n",
       "    <tr>\n",
       "      <th>CriticalAccountOrLoansElsewhere</th>\n",
       "      <td>0.0</td>\n",
       "    </tr>\n",
       "    <tr>\n",
       "      <th>OtherLoansAtBank</th>\n",
       "      <td>0.0</td>\n",
       "    </tr>\n",
       "    <tr>\n",
       "      <th>HasCoapplicant</th>\n",
       "      <td>0.0</td>\n",
       "    </tr>\n",
       "    <tr>\n",
       "      <th>HasGuarantor</th>\n",
       "      <td>1.0</td>\n",
       "    </tr>\n",
       "    <tr>\n",
       "      <th>OwnsHouse</th>\n",
       "      <td>0.0</td>\n",
       "    </tr>\n",
       "    <tr>\n",
       "      <th>RentsHouse</th>\n",
       "      <td>0.0</td>\n",
       "    </tr>\n",
       "    <tr>\n",
       "      <th>Unemployed</th>\n",
       "      <td>0.0</td>\n",
       "    </tr>\n",
       "    <tr>\n",
       "      <th>YearsAtCurrentJob_lt_1</th>\n",
       "      <td>0.0</td>\n",
       "    </tr>\n",
       "    <tr>\n",
       "      <th>YearsAtCurrentJob_geq_4</th>\n",
       "      <td>-0.0</td>\n",
       "    </tr>\n",
       "    <tr>\n",
       "      <th>JobClassIsSkilled</th>\n",
       "      <td>0.0</td>\n",
       "    </tr>\n",
       "    <tr>\n",
       "      <th>isMale</th>\n",
       "      <td>0.0</td>\n",
       "    </tr>\n",
       "  </tbody>\n",
       "</table>\n",
       "</div>"
      ],
      "text/plain": [
       "                                 Actions\n",
       "ForeignWorker                        0.0\n",
       "Single                               0.0\n",
       "Age                                  0.0\n",
       "LoanDuration                       -20.0\n",
       "LoanAmount                       -1110.0\n",
       "LoanRateAsPercentOfIncome            0.0\n",
       "YearsAtCurrentHome                  -0.0\n",
       "NumberOfOtherLoansAtBank             0.0\n",
       "NumberOfLiableIndividuals           -0.0\n",
       "HasTelephone                        -0.0\n",
       "CheckingAccountBalance_geq_0         0.0\n",
       "CheckingAccountBalance_geq_200       1.0\n",
       "SavingsAccountBalance_geq_100        1.0\n",
       "SavingsAccountBalance_geq_500        1.0\n",
       "MissedPayments                       0.0\n",
       "NoCurrentLoan                        0.0\n",
       "CriticalAccountOrLoansElsewhere      0.0\n",
       "OtherLoansAtBank                     0.0\n",
       "HasCoapplicant                       0.0\n",
       "HasGuarantor                         1.0\n",
       "OwnsHouse                            0.0\n",
       "RentsHouse                           0.0\n",
       "Unemployed                           0.0\n",
       "YearsAtCurrentJob_lt_1               0.0\n",
       "YearsAtCurrentJob_geq_4             -0.0\n",
       "JobClassIsSkilled                    0.0\n",
       "isMale                               0.0"
      ]
     },
     "execution_count": 88,
     "metadata": {},
     "output_type": "execute_result"
    }
   ],
   "source": [
    "pd.Series(output_1['actions'], index=X.columns).to_frame('Actions')"
   ]
  },
  {
   "cell_type": "markdown",
   "metadata": {},
   "source": [
    "Ok, so let's read this. \n",
    "\n",
    "* `SavingsAccountBalance_geq_100`$=1$, for example. This was a binary feature, so it can only be $1$. This also means that we're enouraging this person to increase their savings. \n",
    "* `LoanDuration`$=20$. This, if we recall, was the number of months of loan. This means we're encouraging this person to reapply but specify that their loan repayment period is 20 months shorter.\n",
    "\n",
    "Let's check if these two actions make sense in the context of this person:"
   ]
  },
  {
   "cell_type": "code",
   "execution_count": 89,
   "metadata": {},
   "outputs": [
    {
     "data": {
      "text/html": [
       "<div>\n",
       "<style scoped>\n",
       "    .dataframe tbody tr th:only-of-type {\n",
       "        vertical-align: middle;\n",
       "    }\n",
       "\n",
       "    .dataframe tbody tr th {\n",
       "        vertical-align: top;\n",
       "    }\n",
       "\n",
       "    .dataframe thead th {\n",
       "        text-align: right;\n",
       "    }\n",
       "</style>\n",
       "<table border=\"1\" class=\"dataframe\">\n",
       "  <thead>\n",
       "    <tr style=\"text-align: right;\">\n",
       "      <th></th>\n",
       "      <th>Original Features</th>\n",
       "    </tr>\n",
       "  </thead>\n",
       "  <tbody>\n",
       "    <tr>\n",
       "      <th>ForeignWorker</th>\n",
       "      <td>0</td>\n",
       "    </tr>\n",
       "    <tr>\n",
       "      <th>Single</th>\n",
       "      <td>0</td>\n",
       "    </tr>\n",
       "    <tr>\n",
       "      <th>Age</th>\n",
       "      <td>22</td>\n",
       "    </tr>\n",
       "    <tr>\n",
       "      <th>LoanDuration</th>\n",
       "      <td>48</td>\n",
       "    </tr>\n",
       "    <tr>\n",
       "      <th>LoanAmount</th>\n",
       "      <td>5951</td>\n",
       "    </tr>\n",
       "    <tr>\n",
       "      <th>LoanRateAsPercentOfIncome</th>\n",
       "      <td>2</td>\n",
       "    </tr>\n",
       "    <tr>\n",
       "      <th>YearsAtCurrentHome</th>\n",
       "      <td>2</td>\n",
       "    </tr>\n",
       "    <tr>\n",
       "      <th>NumberOfOtherLoansAtBank</th>\n",
       "      <td>1</td>\n",
       "    </tr>\n",
       "    <tr>\n",
       "      <th>NumberOfLiableIndividuals</th>\n",
       "      <td>1</td>\n",
       "    </tr>\n",
       "    <tr>\n",
       "      <th>HasTelephone</th>\n",
       "      <td>0</td>\n",
       "    </tr>\n",
       "    <tr>\n",
       "      <th>CheckingAccountBalance_geq_0</th>\n",
       "      <td>1</td>\n",
       "    </tr>\n",
       "    <tr>\n",
       "      <th>CheckingAccountBalance_geq_200</th>\n",
       "      <td>0</td>\n",
       "    </tr>\n",
       "    <tr>\n",
       "      <th>SavingsAccountBalance_geq_100</th>\n",
       "      <td>0</td>\n",
       "    </tr>\n",
       "    <tr>\n",
       "      <th>SavingsAccountBalance_geq_500</th>\n",
       "      <td>0</td>\n",
       "    </tr>\n",
       "    <tr>\n",
       "      <th>MissedPayments</th>\n",
       "      <td>1</td>\n",
       "    </tr>\n",
       "    <tr>\n",
       "      <th>NoCurrentLoan</th>\n",
       "      <td>0</td>\n",
       "    </tr>\n",
       "    <tr>\n",
       "      <th>CriticalAccountOrLoansElsewhere</th>\n",
       "      <td>0</td>\n",
       "    </tr>\n",
       "    <tr>\n",
       "      <th>OtherLoansAtBank</th>\n",
       "      <td>0</td>\n",
       "    </tr>\n",
       "    <tr>\n",
       "      <th>HasCoapplicant</th>\n",
       "      <td>0</td>\n",
       "    </tr>\n",
       "    <tr>\n",
       "      <th>HasGuarantor</th>\n",
       "      <td>0</td>\n",
       "    </tr>\n",
       "    <tr>\n",
       "      <th>OwnsHouse</th>\n",
       "      <td>1</td>\n",
       "    </tr>\n",
       "    <tr>\n",
       "      <th>RentsHouse</th>\n",
       "      <td>0</td>\n",
       "    </tr>\n",
       "    <tr>\n",
       "      <th>Unemployed</th>\n",
       "      <td>0</td>\n",
       "    </tr>\n",
       "    <tr>\n",
       "      <th>YearsAtCurrentJob_lt_1</th>\n",
       "      <td>0</td>\n",
       "    </tr>\n",
       "    <tr>\n",
       "      <th>YearsAtCurrentJob_geq_4</th>\n",
       "      <td>0</td>\n",
       "    </tr>\n",
       "    <tr>\n",
       "      <th>JobClassIsSkilled</th>\n",
       "      <td>1</td>\n",
       "    </tr>\n",
       "    <tr>\n",
       "      <th>isMale</th>\n",
       "      <td>0</td>\n",
       "    </tr>\n",
       "  </tbody>\n",
       "</table>\n",
       "</div>"
      ],
      "text/plain": [
       "                                 Original Features\n",
       "ForeignWorker                                    0\n",
       "Single                                           0\n",
       "Age                                             22\n",
       "LoanDuration                                    48\n",
       "LoanAmount                                    5951\n",
       "LoanRateAsPercentOfIncome                        2\n",
       "YearsAtCurrentHome                               2\n",
       "NumberOfOtherLoansAtBank                         1\n",
       "NumberOfLiableIndividuals                        1\n",
       "HasTelephone                                     0\n",
       "CheckingAccountBalance_geq_0                     1\n",
       "CheckingAccountBalance_geq_200                   0\n",
       "SavingsAccountBalance_geq_100                    0\n",
       "SavingsAccountBalance_geq_500                    0\n",
       "MissedPayments                                   1\n",
       "NoCurrentLoan                                    0\n",
       "CriticalAccountOrLoansElsewhere                  0\n",
       "OtherLoansAtBank                                 0\n",
       "HasCoapplicant                                   0\n",
       "HasGuarantor                                     0\n",
       "OwnsHouse                                        1\n",
       "RentsHouse                                       0\n",
       "Unemployed                                       0\n",
       "YearsAtCurrentJob_lt_1                           0\n",
       "YearsAtCurrentJob_geq_4                          0\n",
       "JobClassIsSkilled                                1\n",
       "isMale                                           0"
      ]
     },
     "execution_count": 89,
     "metadata": {},
     "output_type": "execute_result"
    }
   ],
   "source": [
    "X.loc[denied_individuals[0]].to_frame(\"Original Features\")"
   ]
  },
  {
   "cell_type": "markdown",
   "metadata": {},
   "source": [
    "Ok, this person originally applied with no savings and with a 4-year repayment period. So asking them to get savings and decrease their loan repayment period by $20$ months make sense as actions.\n",
    "\n",
    "(Let's leave aside the question of mutually exclusive features (eg. `SavingsAccountBalance_geq_100` $=0$, `SavingsAccountBalance_geq_500`$=1$). We'll get back to that in later releases.)"
   ]
  },
  {
   "cell_type": "markdown",
   "metadata": {},
   "source": [
    "Let's close by noting some things:\n",
    "\n",
    "* Immutable features are __not__ changed. That's good. That's recourse.\n",
    "* The changes make sense, at least directionally. We'd encourage this person to get a gaurantor, to decrease their loan amount, and to decrease their loan period, among other changes.\n",
    "\n",
    "Yes, these might be hard for someone. They might have other reasons for immutability that we're not considering. Maybe they _need_ that amount and cannot change. Ok, let's express that:"
   ]
  },
  {
   "cell_type": "code",
   "execution_count": 90,
   "metadata": {},
   "outputs": [],
   "source": [
    "action_set['LoanAmount'].mutable=False"
   ]
  },
  {
   "cell_type": "code",
   "execution_count": 97,
   "metadata": {},
   "outputs": [],
   "source": [
    "x = X.values[denied_individuals[0]]\n",
    "\n",
    "p = .8\n",
    "rb = RecourseBuilder(\n",
    "      optimizer=\"cplex\",\n",
    "      coefficients=coefficients,\n",
    "      intercept=intercept- (np.log(p / (1. - p))),\n",
    "      action_set=action_set,\n",
    "      x=x\n",
    ")"
   ]
  },
  {
   "cell_type": "code",
   "execution_count": 92,
   "metadata": {},
   "outputs": [
    {
     "data": {
      "text/plain": [
       "{'feasible': True,\n",
       " 'status': 'integer optimal solution',\n",
       " 'status_code': 101,\n",
       " 'actions': array([  0.,   0.,   0., -21.,   0.,  -0.,   1.,   0.,   0.,   0.,   0.,\n",
       "          1.,   1.,   1.,   0.,   0.,   0.,   0.,   0.,   1.,   0.,   0.,\n",
       "          0.,   0.,   0.,   0.,   0.]),\n",
       " 'costs': array([0.        , 0.        , 0.        , 0.20979324, 0.        ,\n",
       "        0.        , 0.14975189, 0.        , 0.        , 0.        ,\n",
       "        0.        , 0.06299998, 0.21399989, 0.11099996, 0.        ,\n",
       "        0.        , 0.        , 0.        , 0.        , 0.05199999,\n",
       "        0.        , 0.        , 0.        , 0.        , 0.        ,\n",
       "        0.        , 0.        ]),\n",
       " 'upperbound': 0.21525850301945715,\n",
       " 'lowerbound': 0.21525850301945715,\n",
       " 'gap': 0.0,\n",
       " 'iterations': 13,\n",
       " 'nodes_processed': 0,\n",
       " 'nodes_remaining': 0,\n",
       " 'total_cost': 0.21399988942195836,\n",
       " 'runtime': 0.00927281379699707}"
      ]
     },
     "execution_count": 92,
     "metadata": {},
     "output_type": "execute_result"
    }
   ],
   "source": [
    "output_2 = rb.fit()\n",
    "output_2"
   ]
  },
  {
   "cell_type": "markdown",
   "metadata": {},
   "source": [
    "Ok, so their total cost actually didn't change, which is nice. Let's take a look at their new action set:"
   ]
  },
  {
   "cell_type": "code",
   "execution_count": 93,
   "metadata": {},
   "outputs": [
    {
     "data": {
      "text/html": [
       "<div>\n",
       "<style scoped>\n",
       "    .dataframe tbody tr th:only-of-type {\n",
       "        vertical-align: middle;\n",
       "    }\n",
       "\n",
       "    .dataframe tbody tr th {\n",
       "        vertical-align: top;\n",
       "    }\n",
       "\n",
       "    .dataframe thead th {\n",
       "        text-align: right;\n",
       "    }\n",
       "</style>\n",
       "<table border=\"1\" class=\"dataframe\">\n",
       "  <thead>\n",
       "    <tr style=\"text-align: right;\">\n",
       "      <th></th>\n",
       "      <th>New Actions</th>\n",
       "    </tr>\n",
       "  </thead>\n",
       "  <tbody>\n",
       "    <tr>\n",
       "      <th>ForeignWorker</th>\n",
       "      <td>0.0</td>\n",
       "    </tr>\n",
       "    <tr>\n",
       "      <th>Single</th>\n",
       "      <td>0.0</td>\n",
       "    </tr>\n",
       "    <tr>\n",
       "      <th>Age</th>\n",
       "      <td>0.0</td>\n",
       "    </tr>\n",
       "    <tr>\n",
       "      <th>LoanDuration</th>\n",
       "      <td>-21.0</td>\n",
       "    </tr>\n",
       "    <tr>\n",
       "      <th>LoanAmount</th>\n",
       "      <td>0.0</td>\n",
       "    </tr>\n",
       "    <tr>\n",
       "      <th>LoanRateAsPercentOfIncome</th>\n",
       "      <td>-0.0</td>\n",
       "    </tr>\n",
       "    <tr>\n",
       "      <th>YearsAtCurrentHome</th>\n",
       "      <td>1.0</td>\n",
       "    </tr>\n",
       "    <tr>\n",
       "      <th>NumberOfOtherLoansAtBank</th>\n",
       "      <td>0.0</td>\n",
       "    </tr>\n",
       "    <tr>\n",
       "      <th>NumberOfLiableIndividuals</th>\n",
       "      <td>0.0</td>\n",
       "    </tr>\n",
       "    <tr>\n",
       "      <th>HasTelephone</th>\n",
       "      <td>0.0</td>\n",
       "    </tr>\n",
       "    <tr>\n",
       "      <th>CheckingAccountBalance_geq_0</th>\n",
       "      <td>0.0</td>\n",
       "    </tr>\n",
       "    <tr>\n",
       "      <th>CheckingAccountBalance_geq_200</th>\n",
       "      <td>1.0</td>\n",
       "    </tr>\n",
       "    <tr>\n",
       "      <th>SavingsAccountBalance_geq_100</th>\n",
       "      <td>1.0</td>\n",
       "    </tr>\n",
       "    <tr>\n",
       "      <th>SavingsAccountBalance_geq_500</th>\n",
       "      <td>1.0</td>\n",
       "    </tr>\n",
       "    <tr>\n",
       "      <th>MissedPayments</th>\n",
       "      <td>0.0</td>\n",
       "    </tr>\n",
       "    <tr>\n",
       "      <th>NoCurrentLoan</th>\n",
       "      <td>0.0</td>\n",
       "    </tr>\n",
       "    <tr>\n",
       "      <th>CriticalAccountOrLoansElsewhere</th>\n",
       "      <td>0.0</td>\n",
       "    </tr>\n",
       "    <tr>\n",
       "      <th>OtherLoansAtBank</th>\n",
       "      <td>0.0</td>\n",
       "    </tr>\n",
       "    <tr>\n",
       "      <th>HasCoapplicant</th>\n",
       "      <td>0.0</td>\n",
       "    </tr>\n",
       "    <tr>\n",
       "      <th>HasGuarantor</th>\n",
       "      <td>1.0</td>\n",
       "    </tr>\n",
       "    <tr>\n",
       "      <th>OwnsHouse</th>\n",
       "      <td>0.0</td>\n",
       "    </tr>\n",
       "    <tr>\n",
       "      <th>RentsHouse</th>\n",
       "      <td>0.0</td>\n",
       "    </tr>\n",
       "    <tr>\n",
       "      <th>Unemployed</th>\n",
       "      <td>0.0</td>\n",
       "    </tr>\n",
       "    <tr>\n",
       "      <th>YearsAtCurrentJob_lt_1</th>\n",
       "      <td>0.0</td>\n",
       "    </tr>\n",
       "    <tr>\n",
       "      <th>YearsAtCurrentJob_geq_4</th>\n",
       "      <td>0.0</td>\n",
       "    </tr>\n",
       "    <tr>\n",
       "      <th>JobClassIsSkilled</th>\n",
       "      <td>0.0</td>\n",
       "    </tr>\n",
       "    <tr>\n",
       "      <th>isMale</th>\n",
       "      <td>0.0</td>\n",
       "    </tr>\n",
       "  </tbody>\n",
       "</table>\n",
       "</div>"
      ],
      "text/plain": [
       "                                 New Actions\n",
       "ForeignWorker                            0.0\n",
       "Single                                   0.0\n",
       "Age                                      0.0\n",
       "LoanDuration                           -21.0\n",
       "LoanAmount                               0.0\n",
       "LoanRateAsPercentOfIncome               -0.0\n",
       "YearsAtCurrentHome                       1.0\n",
       "NumberOfOtherLoansAtBank                 0.0\n",
       "NumberOfLiableIndividuals                0.0\n",
       "HasTelephone                             0.0\n",
       "CheckingAccountBalance_geq_0             0.0\n",
       "CheckingAccountBalance_geq_200           1.0\n",
       "SavingsAccountBalance_geq_100            1.0\n",
       "SavingsAccountBalance_geq_500            1.0\n",
       "MissedPayments                           0.0\n",
       "NoCurrentLoan                            0.0\n",
       "CriticalAccountOrLoansElsewhere          0.0\n",
       "OtherLoansAtBank                         0.0\n",
       "HasCoapplicant                           0.0\n",
       "HasGuarantor                             1.0\n",
       "OwnsHouse                                0.0\n",
       "RentsHouse                               0.0\n",
       "Unemployed                               0.0\n",
       "YearsAtCurrentJob_lt_1                   0.0\n",
       "YearsAtCurrentJob_geq_4                  0.0\n",
       "JobClassIsSkilled                        0.0\n",
       "isMale                                   0.0"
      ]
     },
     "execution_count": 93,
     "metadata": {},
     "output_type": "execute_result"
    }
   ],
   "source": [
    "pd.Series(output_2['actions'], index=X.columns).to_frame(\"New Actions\")"
   ]
  },
  {
   "cell_type": "markdown",
   "metadata": {},
   "source": [
    "Ok, by decreasing their repayment period by a bit more and changing some other features, this person can still ask for the same amount. That's good.\n",
    "\n",
    "The magical thing about both of these action sets is that this person, if they do this, _will_ qualify for a loan. Let's check that:"
   ]
  },
  {
   "cell_type": "code",
   "execution_count": 94,
   "metadata": {},
   "outputs": [
    {
     "data": {
      "text/plain": [
       "array([0.80082547])"
      ]
     },
     "execution_count": 94,
     "metadata": {},
     "output_type": "execute_result"
    }
   ],
   "source": [
    "clf.predict_proba([X.loc[denied_individuals[0]] + pd.Series(output_1['actions'], index=X.columns)])[:, 1]"
   ]
  },
  {
   "cell_type": "code",
   "execution_count": 95,
   "metadata": {},
   "outputs": [
    {
     "data": {
      "text/plain": [
       "array([0.80089645])"
      ]
     },
     "execution_count": 95,
     "metadata": {},
     "output_type": "execute_result"
    }
   ],
   "source": [
    "clf.predict_proba([X.loc[denied_individuals[0]] + pd.Series(output_2['actions'], index=X.columns)])[:, 1]"
   ]
  },
  {
   "cell_type": "markdown",
   "metadata": {},
   "source": [
    "And there we have it. By making these tweaks, this person has two ways to get over the $.8$ threshold that we've set. This period can now get approved under this model."
   ]
  }
 ],
 "metadata": {
  "kernelspec": {
   "display_name": "Python 3",
   "language": "python",
   "name": "python3"
  },
  "language_info": {
   "codemirror_mode": {
    "name": "ipython",
    "version": 3
   },
   "file_extension": ".py",
   "mimetype": "text/x-python",
   "name": "python",
   "nbconvert_exporter": "python",
   "pygments_lexer": "ipython3",
   "version": "3.6.6"
  }
 },
 "nbformat": 4,
 "nbformat_minor": 2
}
