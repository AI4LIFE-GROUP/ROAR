{
 "cells": [
  {
   "cell_type": "markdown",
   "metadata": {},
   "source": [
    "## Overview \n",
    "\n",
    "In this demo, we will show:\n",
    "\n",
    "1. How to represent actions that are available to a person using an `ActionSet` \n",
    "2. How to provide a consumer who is denied a loan by a machine learning model a list of actionable changes to flip their prediction with a `Flipset`\n",
    "3. How to verify that a model will provide recourse to all of its decision subjects using the `RecourseAuditor`\n",
    "\n",
    "\n"
   ]
  },
  {
   "cell_type": "markdown",
   "metadata": {},
   "source": [
    "Our library provides tools for recourse reporting and verifcation.\n",
    "\n",
    "We'll start by building a machine learning model for loan approval that we'll use for the demo. \n",
    "We'll use a processed version of the  `german` credit dataset from the [UCI Machine Learning repository](https://archive.ics.uci.edu/ml/datasets/statlog+(german+credit+data)). \n",
    "We'll predict the risk of repayment with a simple logistic regression model. "
   ]
  },
  {
   "cell_type": "code",
   "execution_count": 16,
   "metadata": {},
   "outputs": [],
   "source": [
    "import pandas as pd\n",
    "import numpy as np\n",
    "from sklearn.linear_model import LogisticRegression\n",
    "import recourse as rs\n",
    "from IPython.core.display import display, HTML\n",
    "pd.options.display.float_format = '{:,.3f}'.format\n",
    "\n",
    "# import data\n",
    "url = 'https://raw.githubusercontent.com/ustunb/actionable-recourse/master/examples/paper/data/credit_processed.csv'\n",
    "df = pd.read_csv(url)\n",
    "y, X = df.iloc[:, 0], df.iloc[:, 1:]"
   ]
  },
  {
   "cell_type": "code",
   "execution_count": 17,
   "metadata": {},
   "outputs": [],
   "source": [
    "# train a classifier\n",
    "clf = LogisticRegression(max_iter = 1000, C=1./1000, solver='liblinear', penalty='l1')\n",
    "clf.fit(X, y)\n",
    "yhat = clf.predict(X)"
   ]
  },
  {
   "cell_type": "code",
   "execution_count": 18,
   "metadata": {},
   "outputs": [
    {
     "data": {
      "text/html": [
       "<div>\n",
       "<style scoped>\n",
       "    .dataframe tbody tr th:only-of-type {\n",
       "        vertical-align: middle;\n",
       "    }\n",
       "\n",
       "    .dataframe tbody tr th {\n",
       "        vertical-align: top;\n",
       "    }\n",
       "\n",
       "    .dataframe thead th {\n",
       "        text-align: right;\n",
       "    }\n",
       "</style>\n",
       "<table border=\"1\" class=\"dataframe\">\n",
       "  <thead>\n",
       "    <tr style=\"text-align: right;\">\n",
       "      <th></th>\n",
       "      <th>Coefficients</th>\n",
       "    </tr>\n",
       "  </thead>\n",
       "  <tbody>\n",
       "    <tr>\n",
       "      <th>Married</th>\n",
       "      <td>0.000</td>\n",
       "    </tr>\n",
       "    <tr>\n",
       "      <th>Single</th>\n",
       "      <td>0.000</td>\n",
       "    </tr>\n",
       "    <tr>\n",
       "      <th>Age_lt_25</th>\n",
       "      <td>0.000</td>\n",
       "    </tr>\n",
       "    <tr>\n",
       "      <th>Age_in_25_to_40</th>\n",
       "      <td>0.000</td>\n",
       "    </tr>\n",
       "    <tr>\n",
       "      <th>Age_in_40_to_59</th>\n",
       "      <td>0.000</td>\n",
       "    </tr>\n",
       "    <tr>\n",
       "      <th>Age_geq_60</th>\n",
       "      <td>0.000</td>\n",
       "    </tr>\n",
       "    <tr>\n",
       "      <th>EducationLevel</th>\n",
       "      <td>0.332</td>\n",
       "    </tr>\n",
       "    <tr>\n",
       "      <th>MaxBillAmountOverLast6Months</th>\n",
       "      <td>0.000</td>\n",
       "    </tr>\n",
       "    <tr>\n",
       "      <th>MaxPaymentAmountOverLast6Months</th>\n",
       "      <td>0.000</td>\n",
       "    </tr>\n",
       "    <tr>\n",
       "      <th>MonthsWithZeroBalanceOverLast6Months</th>\n",
       "      <td>0.000</td>\n",
       "    </tr>\n",
       "    <tr>\n",
       "      <th>MonthsWithLowSpendingOverLast6Months</th>\n",
       "      <td>0.114</td>\n",
       "    </tr>\n",
       "    <tr>\n",
       "      <th>MonthsWithHighSpendingOverLast6Months</th>\n",
       "      <td>0.000</td>\n",
       "    </tr>\n",
       "    <tr>\n",
       "      <th>MostRecentBillAmount</th>\n",
       "      <td>-0.000</td>\n",
       "    </tr>\n",
       "    <tr>\n",
       "      <th>MostRecentPaymentAmount</th>\n",
       "      <td>0.001</td>\n",
       "    </tr>\n",
       "    <tr>\n",
       "      <th>TotalOverdueCounts</th>\n",
       "      <td>0.000</td>\n",
       "    </tr>\n",
       "    <tr>\n",
       "      <th>TotalMonthsOverdue</th>\n",
       "      <td>-0.153</td>\n",
       "    </tr>\n",
       "    <tr>\n",
       "      <th>HistoryOfOverduePayments</th>\n",
       "      <td>0.000</td>\n",
       "    </tr>\n",
       "  </tbody>\n",
       "</table>\n",
       "</div>"
      ],
      "text/plain": [
       "                                       Coefficients\n",
       "Married                                       0.000\n",
       "Single                                        0.000\n",
       "Age_lt_25                                     0.000\n",
       "Age_in_25_to_40                               0.000\n",
       "Age_in_40_to_59                               0.000\n",
       "Age_geq_60                                    0.000\n",
       "EducationLevel                                0.332\n",
       "MaxBillAmountOverLast6Months                  0.000\n",
       "MaxPaymentAmountOverLast6Months               0.000\n",
       "MonthsWithZeroBalanceOverLast6Months          0.000\n",
       "MonthsWithLowSpendingOverLast6Months          0.114\n",
       "MonthsWithHighSpendingOverLast6Months         0.000\n",
       "MostRecentBillAmount                         -0.000\n",
       "MostRecentPaymentAmount                       0.001\n",
       "TotalOverdueCounts                            0.000\n",
       "TotalMonthsOverdue                           -0.153\n",
       "HistoryOfOverduePayments                      0.000"
      ]
     },
     "execution_count": 18,
     "metadata": {},
     "output_type": "execute_result"
    }
   ],
   "source": [
    "pd.Series(clf.coef_[0], index=X.columns).to_frame('Coefficients')"
   ]
  },
  {
   "cell_type": "markdown",
   "metadata": {},
   "source": [
    "# Action Set"
   ]
  },
  {
   "cell_type": "code",
   "execution_count": 19,
   "metadata": {},
   "outputs": [],
   "source": [
    "# customize the set of actions\n",
    "A = rs.ActionSet(X)  ## matrix of features. ActionSet will set bounds and step sizes by default\n",
    "\n",
    "# specify immutable variables\n",
    "A['Married'].actionable = False\n",
    "\n",
    "# education level\n",
    "A['EducationLevel'].step_direction = 1  ## force conditional immutability.\n",
    "A['EducationLevel'].step_size = 1  ## set step-size to a custom value.\n",
    "A['EducationLevel'].step_type = \"absolute\"  ## force conditional immutability.\n",
    "A['EducationLevel'].bounds = (0, 3)\n",
    "\n",
    "A['TotalMonthsOverdue'].step_size = 1  ## set step-size to a custom value.\n",
    "A['TotalMonthsOverdue'].step_type = \"absolute\"  ## discretize on absolute values of feature rather than percentile values\n",
    "A['TotalMonthsOverdue'].bounds = (0, 12)  ## set bounds to a custom value.\n",
    "A['MonthsWithLowSpendingOverLast6Months'].bounds = (0, 4)\n",
    "\n",
    "# can only specify properties for multiple variables using a list\n",
    "A[['Age_lt_25', 'Age_in_25_to_40', 'Age_in_40_to_59', 'Age_geq_60']].actionable = False\n",
    "A[['TotalMonthsOverdue', 'TotalOverdueCounts', 'HistoryOfOverduePayments']].actionable = False\n",
    "# todo: add one-hot constraint"
   ]
  },
  {
   "cell_type": "code",
   "execution_count": 27,
   "metadata": {
    "scrolled": false
   },
   "outputs": [
    {
     "data": {
      "text/html": [
       "<style  type=\"text/css\" >\n",
       "</style><table id=\"T_95bade8e_0a00_11eb_95d8_acde48001122\" ><thead>    <tr>        <th class=\"col_heading level0 col0\" >name</th>        <th class=\"col_heading level0 col1\" >variable_type</th>        <th class=\"col_heading level0 col2\" >actionable</th>        <th class=\"col_heading level0 col3\" >lb</th>        <th class=\"col_heading level0 col4\" >ub</th>    </tr></thead><tbody>\n",
       "                <tr>\n",
       "                                <td id=\"T_95bade8e_0a00_11eb_95d8_acde48001122row0_col0\" class=\"data row0 col0\" >Married</td>\n",
       "                        <td id=\"T_95bade8e_0a00_11eb_95d8_acde48001122row0_col1\" class=\"data row0 col1\" ><class 'bool'></td>\n",
       "                        <td id=\"T_95bade8e_0a00_11eb_95d8_acde48001122row0_col2\" class=\"data row0 col2\" >False</td>\n",
       "                        <td id=\"T_95bade8e_0a00_11eb_95d8_acde48001122row0_col3\" class=\"data row0 col3\" >0</td>\n",
       "                        <td id=\"T_95bade8e_0a00_11eb_95d8_acde48001122row0_col4\" class=\"data row0 col4\" >1</td>\n",
       "            </tr>\n",
       "            <tr>\n",
       "                                <td id=\"T_95bade8e_0a00_11eb_95d8_acde48001122row1_col0\" class=\"data row1 col0\" >Single</td>\n",
       "                        <td id=\"T_95bade8e_0a00_11eb_95d8_acde48001122row1_col1\" class=\"data row1 col1\" ><class 'bool'></td>\n",
       "                        <td id=\"T_95bade8e_0a00_11eb_95d8_acde48001122row1_col2\" class=\"data row1 col2\" >True</td>\n",
       "                        <td id=\"T_95bade8e_0a00_11eb_95d8_acde48001122row1_col3\" class=\"data row1 col3\" >0</td>\n",
       "                        <td id=\"T_95bade8e_0a00_11eb_95d8_acde48001122row1_col4\" class=\"data row1 col4\" >1</td>\n",
       "            </tr>\n",
       "            <tr>\n",
       "                                <td id=\"T_95bade8e_0a00_11eb_95d8_acde48001122row2_col0\" class=\"data row2 col0\" >Age_lt_25</td>\n",
       "                        <td id=\"T_95bade8e_0a00_11eb_95d8_acde48001122row2_col1\" class=\"data row2 col1\" ><class 'bool'></td>\n",
       "                        <td id=\"T_95bade8e_0a00_11eb_95d8_acde48001122row2_col2\" class=\"data row2 col2\" >False</td>\n",
       "                        <td id=\"T_95bade8e_0a00_11eb_95d8_acde48001122row2_col3\" class=\"data row2 col3\" >0</td>\n",
       "                        <td id=\"T_95bade8e_0a00_11eb_95d8_acde48001122row2_col4\" class=\"data row2 col4\" >1</td>\n",
       "            </tr>\n",
       "            <tr>\n",
       "                                <td id=\"T_95bade8e_0a00_11eb_95d8_acde48001122row3_col0\" class=\"data row3 col0\" >Age_in_25_to_40</td>\n",
       "                        <td id=\"T_95bade8e_0a00_11eb_95d8_acde48001122row3_col1\" class=\"data row3 col1\" ><class 'bool'></td>\n",
       "                        <td id=\"T_95bade8e_0a00_11eb_95d8_acde48001122row3_col2\" class=\"data row3 col2\" >False</td>\n",
       "                        <td id=\"T_95bade8e_0a00_11eb_95d8_acde48001122row3_col3\" class=\"data row3 col3\" >0</td>\n",
       "                        <td id=\"T_95bade8e_0a00_11eb_95d8_acde48001122row3_col4\" class=\"data row3 col4\" >1</td>\n",
       "            </tr>\n",
       "            <tr>\n",
       "                                <td id=\"T_95bade8e_0a00_11eb_95d8_acde48001122row4_col0\" class=\"data row4 col0\" >Age_in_40_to_59</td>\n",
       "                        <td id=\"T_95bade8e_0a00_11eb_95d8_acde48001122row4_col1\" class=\"data row4 col1\" ><class 'bool'></td>\n",
       "                        <td id=\"T_95bade8e_0a00_11eb_95d8_acde48001122row4_col2\" class=\"data row4 col2\" >False</td>\n",
       "                        <td id=\"T_95bade8e_0a00_11eb_95d8_acde48001122row4_col3\" class=\"data row4 col3\" >0</td>\n",
       "                        <td id=\"T_95bade8e_0a00_11eb_95d8_acde48001122row4_col4\" class=\"data row4 col4\" >1</td>\n",
       "            </tr>\n",
       "            <tr>\n",
       "                                <td id=\"T_95bade8e_0a00_11eb_95d8_acde48001122row5_col0\" class=\"data row5 col0\" >Age_geq_60</td>\n",
       "                        <td id=\"T_95bade8e_0a00_11eb_95d8_acde48001122row5_col1\" class=\"data row5 col1\" ><class 'bool'></td>\n",
       "                        <td id=\"T_95bade8e_0a00_11eb_95d8_acde48001122row5_col2\" class=\"data row5 col2\" >False</td>\n",
       "                        <td id=\"T_95bade8e_0a00_11eb_95d8_acde48001122row5_col3\" class=\"data row5 col3\" >0</td>\n",
       "                        <td id=\"T_95bade8e_0a00_11eb_95d8_acde48001122row5_col4\" class=\"data row5 col4\" >1</td>\n",
       "            </tr>\n",
       "            <tr>\n",
       "                                <td id=\"T_95bade8e_0a00_11eb_95d8_acde48001122row6_col0\" class=\"data row6 col0\" >EducationLevel</td>\n",
       "                        <td id=\"T_95bade8e_0a00_11eb_95d8_acde48001122row6_col1\" class=\"data row6 col1\" ><class 'int'></td>\n",
       "                        <td id=\"T_95bade8e_0a00_11eb_95d8_acde48001122row6_col2\" class=\"data row6 col2\" >True</td>\n",
       "                        <td id=\"T_95bade8e_0a00_11eb_95d8_acde48001122row6_col3\" class=\"data row6 col3\" >0</td>\n",
       "                        <td id=\"T_95bade8e_0a00_11eb_95d8_acde48001122row6_col4\" class=\"data row6 col4\" >3</td>\n",
       "            </tr>\n",
       "            <tr>\n",
       "                                <td id=\"T_95bade8e_0a00_11eb_95d8_acde48001122row7_col0\" class=\"data row7 col0\" >MaxBillAmountOverLast6Months</td>\n",
       "                        <td id=\"T_95bade8e_0a00_11eb_95d8_acde48001122row7_col1\" class=\"data row7 col1\" ><class 'int'></td>\n",
       "                        <td id=\"T_95bade8e_0a00_11eb_95d8_acde48001122row7_col2\" class=\"data row7 col2\" >True</td>\n",
       "                        <td id=\"T_95bade8e_0a00_11eb_95d8_acde48001122row7_col3\" class=\"data row7 col3\" >0</td>\n",
       "                        <td id=\"T_95bade8e_0a00_11eb_95d8_acde48001122row7_col4\" class=\"data row7 col4\" >11321</td>\n",
       "            </tr>\n",
       "            <tr>\n",
       "                                <td id=\"T_95bade8e_0a00_11eb_95d8_acde48001122row8_col0\" class=\"data row8 col0\" >MaxPaymentAmountOverLast6Months</td>\n",
       "                        <td id=\"T_95bade8e_0a00_11eb_95d8_acde48001122row8_col1\" class=\"data row8 col1\" ><class 'int'></td>\n",
       "                        <td id=\"T_95bade8e_0a00_11eb_95d8_acde48001122row8_col2\" class=\"data row8 col2\" >True</td>\n",
       "                        <td id=\"T_95bade8e_0a00_11eb_95d8_acde48001122row8_col3\" class=\"data row8 col3\" >0</td>\n",
       "                        <td id=\"T_95bade8e_0a00_11eb_95d8_acde48001122row8_col4\" class=\"data row8 col4\" >5480</td>\n",
       "            </tr>\n",
       "            <tr>\n",
       "                                <td id=\"T_95bade8e_0a00_11eb_95d8_acde48001122row9_col0\" class=\"data row9 col0\" >MonthsWithZeroBalanceOverLast6Months</td>\n",
       "                        <td id=\"T_95bade8e_0a00_11eb_95d8_acde48001122row9_col1\" class=\"data row9 col1\" ><class 'int'></td>\n",
       "                        <td id=\"T_95bade8e_0a00_11eb_95d8_acde48001122row9_col2\" class=\"data row9 col2\" >True</td>\n",
       "                        <td id=\"T_95bade8e_0a00_11eb_95d8_acde48001122row9_col3\" class=\"data row9 col3\" >0</td>\n",
       "                        <td id=\"T_95bade8e_0a00_11eb_95d8_acde48001122row9_col4\" class=\"data row9 col4\" >4</td>\n",
       "            </tr>\n",
       "            <tr>\n",
       "                                <td id=\"T_95bade8e_0a00_11eb_95d8_acde48001122row10_col0\" class=\"data row10 col0\" >MonthsWithLowSpendingOverLast6Months</td>\n",
       "                        <td id=\"T_95bade8e_0a00_11eb_95d8_acde48001122row10_col1\" class=\"data row10 col1\" ><class 'int'></td>\n",
       "                        <td id=\"T_95bade8e_0a00_11eb_95d8_acde48001122row10_col2\" class=\"data row10 col2\" >True</td>\n",
       "                        <td id=\"T_95bade8e_0a00_11eb_95d8_acde48001122row10_col3\" class=\"data row10 col3\" >0</td>\n",
       "                        <td id=\"T_95bade8e_0a00_11eb_95d8_acde48001122row10_col4\" class=\"data row10 col4\" >4</td>\n",
       "            </tr>\n",
       "            <tr>\n",
       "                                <td id=\"T_95bade8e_0a00_11eb_95d8_acde48001122row11_col0\" class=\"data row11 col0\" >MonthsWithHighSpendingOverLast6Months</td>\n",
       "                        <td id=\"T_95bade8e_0a00_11eb_95d8_acde48001122row11_col1\" class=\"data row11 col1\" ><class 'int'></td>\n",
       "                        <td id=\"T_95bade8e_0a00_11eb_95d8_acde48001122row11_col2\" class=\"data row11 col2\" >True</td>\n",
       "                        <td id=\"T_95bade8e_0a00_11eb_95d8_acde48001122row11_col3\" class=\"data row11 col3\" >0</td>\n",
       "                        <td id=\"T_95bade8e_0a00_11eb_95d8_acde48001122row11_col4\" class=\"data row11 col4\" >6</td>\n",
       "            </tr>\n",
       "            <tr>\n",
       "                                <td id=\"T_95bade8e_0a00_11eb_95d8_acde48001122row12_col0\" class=\"data row12 col0\" >MostRecentBillAmount</td>\n",
       "                        <td id=\"T_95bade8e_0a00_11eb_95d8_acde48001122row12_col1\" class=\"data row12 col1\" ><class 'int'></td>\n",
       "                        <td id=\"T_95bade8e_0a00_11eb_95d8_acde48001122row12_col2\" class=\"data row12 col2\" >True</td>\n",
       "                        <td id=\"T_95bade8e_0a00_11eb_95d8_acde48001122row12_col3\" class=\"data row12 col3\" >0</td>\n",
       "                        <td id=\"T_95bade8e_0a00_11eb_95d8_acde48001122row12_col4\" class=\"data row12 col4\" >10690</td>\n",
       "            </tr>\n",
       "            <tr>\n",
       "                                <td id=\"T_95bade8e_0a00_11eb_95d8_acde48001122row13_col0\" class=\"data row13 col0\" >MostRecentPaymentAmount</td>\n",
       "                        <td id=\"T_95bade8e_0a00_11eb_95d8_acde48001122row13_col1\" class=\"data row13 col1\" ><class 'int'></td>\n",
       "                        <td id=\"T_95bade8e_0a00_11eb_95d8_acde48001122row13_col2\" class=\"data row13 col2\" >True</td>\n",
       "                        <td id=\"T_95bade8e_0a00_11eb_95d8_acde48001122row13_col3\" class=\"data row13 col3\" >0</td>\n",
       "                        <td id=\"T_95bade8e_0a00_11eb_95d8_acde48001122row13_col4\" class=\"data row13 col4\" >2031</td>\n",
       "            </tr>\n",
       "            <tr>\n",
       "                                <td id=\"T_95bade8e_0a00_11eb_95d8_acde48001122row14_col0\" class=\"data row14 col0\" >TotalOverdueCounts</td>\n",
       "                        <td id=\"T_95bade8e_0a00_11eb_95d8_acde48001122row14_col1\" class=\"data row14 col1\" ><class 'int'></td>\n",
       "                        <td id=\"T_95bade8e_0a00_11eb_95d8_acde48001122row14_col2\" class=\"data row14 col2\" >False</td>\n",
       "                        <td id=\"T_95bade8e_0a00_11eb_95d8_acde48001122row14_col3\" class=\"data row14 col3\" >0</td>\n",
       "                        <td id=\"T_95bade8e_0a00_11eb_95d8_acde48001122row14_col4\" class=\"data row14 col4\" >2</td>\n",
       "            </tr>\n",
       "            <tr>\n",
       "                                <td id=\"T_95bade8e_0a00_11eb_95d8_acde48001122row15_col0\" class=\"data row15 col0\" >TotalMonthsOverdue</td>\n",
       "                        <td id=\"T_95bade8e_0a00_11eb_95d8_acde48001122row15_col1\" class=\"data row15 col1\" ><class 'int'></td>\n",
       "                        <td id=\"T_95bade8e_0a00_11eb_95d8_acde48001122row15_col2\" class=\"data row15 col2\" >False</td>\n",
       "                        <td id=\"T_95bade8e_0a00_11eb_95d8_acde48001122row15_col3\" class=\"data row15 col3\" >0</td>\n",
       "                        <td id=\"T_95bade8e_0a00_11eb_95d8_acde48001122row15_col4\" class=\"data row15 col4\" >12</td>\n",
       "            </tr>\n",
       "            <tr>\n",
       "                                <td id=\"T_95bade8e_0a00_11eb_95d8_acde48001122row16_col0\" class=\"data row16 col0\" >HistoryOfOverduePayments</td>\n",
       "                        <td id=\"T_95bade8e_0a00_11eb_95d8_acde48001122row16_col1\" class=\"data row16 col1\" ><class 'bool'></td>\n",
       "                        <td id=\"T_95bade8e_0a00_11eb_95d8_acde48001122row16_col2\" class=\"data row16 col2\" >False</td>\n",
       "                        <td id=\"T_95bade8e_0a00_11eb_95d8_acde48001122row16_col3\" class=\"data row16 col3\" >0</td>\n",
       "                        <td id=\"T_95bade8e_0a00_11eb_95d8_acde48001122row16_col4\" class=\"data row16 col4\" >1</td>\n",
       "            </tr>\n",
       "    </tbody></table>"
      ],
      "text/plain": [
       "<pandas.io.formats.style.Styler at 0x7fe529bb7bd0>"
      ]
     },
     "execution_count": 27,
     "metadata": {},
     "output_type": "execute_result"
    }
   ],
   "source": [
    "A.df[['name','variable_type', 'actionable', 'lb', 'ub']].assign(lb=lambda df: df['lb'].astype(int)).assign(ub=lambda df: df['ub'].astype(int)).style.hide_index()"
   ]
  },
  {
   "cell_type": "code",
   "execution_count": 28,
   "metadata": {},
   "outputs": [
    {
     "data": {
      "text/plain": [
       "0.0"
      ]
     },
     "execution_count": 28,
     "metadata": {},
     "output_type": "execute_result"
    }
   ],
   "source": [
    "# Person #13 is denied a loan (bad luck)\n",
    "x = X.values[[13]]\n",
    "yhat = clf.predict(x)[0]\n",
    "yhat"
   ]
  },
  {
   "cell_type": "code",
   "execution_count": 29,
   "metadata": {
    "scrolled": false
   },
   "outputs": [
    {
     "name": "stdout",
     "output_type": "stream",
     "text": [
      "obtained 5 items in 0.3 seconds\n"
     ]
    },
    {
     "data": {
      "text/html": [
       "<style  type=\"text/css\" >\n",
       "    #T_9d8c1312_0a00_11eb_95d8_acde48001122 tr {\n",
       "          background-color: white;\n",
       "    }    #T_9d8c1312_0a00_11eb_95d8_acde48001122row0_col0 {\n",
       "            background-color:  #e2efd8;\n",
       "        }    #T_9d8c1312_0a00_11eb_95d8_acde48001122row0_col1 {\n",
       "            background-color:  #e2efd8;\n",
       "        }    #T_9d8c1312_0a00_11eb_95d8_acde48001122row0_col2 {\n",
       "            background-color:  #e2efd8;\n",
       "        }    #T_9d8c1312_0a00_11eb_95d8_acde48001122row0_col3 {\n",
       "            background-color:  #e2efd8;\n",
       "        }    #T_9d8c1312_0a00_11eb_95d8_acde48001122row1_col0 {\n",
       "            background-color:  white;\n",
       "        }    #T_9d8c1312_0a00_11eb_95d8_acde48001122row1_col1 {\n",
       "            background-color:  white;\n",
       "        }    #T_9d8c1312_0a00_11eb_95d8_acde48001122row1_col2 {\n",
       "            background-color:  white;\n",
       "        }    #T_9d8c1312_0a00_11eb_95d8_acde48001122row1_col3 {\n",
       "            background-color:  white;\n",
       "        }    #T_9d8c1312_0a00_11eb_95d8_acde48001122row2_col0 {\n",
       "            background-color:  white;\n",
       "        }    #T_9d8c1312_0a00_11eb_95d8_acde48001122row2_col1 {\n",
       "            background-color:  white;\n",
       "        }    #T_9d8c1312_0a00_11eb_95d8_acde48001122row2_col2 {\n",
       "            background-color:  white;\n",
       "        }    #T_9d8c1312_0a00_11eb_95d8_acde48001122row2_col3 {\n",
       "            background-color:  white;\n",
       "        }    #T_9d8c1312_0a00_11eb_95d8_acde48001122row3_col0 {\n",
       "            background-color:  #e2efd8;\n",
       "        }    #T_9d8c1312_0a00_11eb_95d8_acde48001122row3_col1 {\n",
       "            background-color:  #e2efd8;\n",
       "        }    #T_9d8c1312_0a00_11eb_95d8_acde48001122row3_col2 {\n",
       "            background-color:  #e2efd8;\n",
       "        }    #T_9d8c1312_0a00_11eb_95d8_acde48001122row3_col3 {\n",
       "            background-color:  #e2efd8;\n",
       "        }    #T_9d8c1312_0a00_11eb_95d8_acde48001122row4_col0 {\n",
       "            background-color:  #e2efd8;\n",
       "        }    #T_9d8c1312_0a00_11eb_95d8_acde48001122row4_col1 {\n",
       "            background-color:  #e2efd8;\n",
       "        }    #T_9d8c1312_0a00_11eb_95d8_acde48001122row4_col2 {\n",
       "            background-color:  #e2efd8;\n",
       "        }    #T_9d8c1312_0a00_11eb_95d8_acde48001122row4_col3 {\n",
       "            background-color:  #e2efd8;\n",
       "        }    #T_9d8c1312_0a00_11eb_95d8_acde48001122row5_col0 {\n",
       "            background-color:  white;\n",
       "        }    #T_9d8c1312_0a00_11eb_95d8_acde48001122row5_col1 {\n",
       "            background-color:  white;\n",
       "        }    #T_9d8c1312_0a00_11eb_95d8_acde48001122row5_col2 {\n",
       "            background-color:  white;\n",
       "        }    #T_9d8c1312_0a00_11eb_95d8_acde48001122row5_col3 {\n",
       "            background-color:  white;\n",
       "        }    #T_9d8c1312_0a00_11eb_95d8_acde48001122row6_col0 {\n",
       "            background-color:  white;\n",
       "        }    #T_9d8c1312_0a00_11eb_95d8_acde48001122row6_col1 {\n",
       "            background-color:  white;\n",
       "        }    #T_9d8c1312_0a00_11eb_95d8_acde48001122row6_col2 {\n",
       "            background-color:  white;\n",
       "        }    #T_9d8c1312_0a00_11eb_95d8_acde48001122row6_col3 {\n",
       "            background-color:  white;\n",
       "        }    #T_9d8c1312_0a00_11eb_95d8_acde48001122row7_col0 {\n",
       "            background-color:  #e2efd8;\n",
       "        }    #T_9d8c1312_0a00_11eb_95d8_acde48001122row7_col1 {\n",
       "            background-color:  #e2efd8;\n",
       "        }    #T_9d8c1312_0a00_11eb_95d8_acde48001122row7_col2 {\n",
       "            background-color:  #e2efd8;\n",
       "        }    #T_9d8c1312_0a00_11eb_95d8_acde48001122row7_col3 {\n",
       "            background-color:  #e2efd8;\n",
       "        }</style><table id=\"T_9d8c1312_0a00_11eb_95d8_acde48001122\" ><thead>    <tr>        <th class=\"col_heading level0 col0\" >Features to Change</th>        <th class=\"col_heading level0 col1\" >Current Value</th>        <th class=\"col_heading level0 col2\" >to</th>        <th class=\"col_heading level0 col3\" >Required Value</th>    </tr></thead><tbody>\n",
       "                <tr>\n",
       "                                        <td id=\"T_9d8c1312_0a00_11eb_95d8_acde48001122row0_col0\" class=\"data row0 col0\" >MaxBillAmountOverLast6Months</td>\n",
       "                        <td id=\"T_9d8c1312_0a00_11eb_95d8_acde48001122row0_col1\" class=\"data row0 col1\" >2060</td>\n",
       "                        <td id=\"T_9d8c1312_0a00_11eb_95d8_acde48001122row0_col2\" class=\"data row0 col2\" >&#8594;</td>\n",
       "                        <td id=\"T_9d8c1312_0a00_11eb_95d8_acde48001122row0_col3\" class=\"data row0 col3\" >2166</td>\n",
       "            </tr>\n",
       "            <tr>\n",
       "                                        <td id=\"T_9d8c1312_0a00_11eb_95d8_acde48001122row1_col0\" class=\"data row1 col0\" >MaxBillAmountOverLast6Months</td>\n",
       "                        <td id=\"T_9d8c1312_0a00_11eb_95d8_acde48001122row1_col1\" class=\"data row1 col1\" >2060</td>\n",
       "                        <td id=\"T_9d8c1312_0a00_11eb_95d8_acde48001122row1_col2\" class=\"data row1 col2\" >&#8594;</td>\n",
       "                        <td id=\"T_9d8c1312_0a00_11eb_95d8_acde48001122row1_col3\" class=\"data row1 col3\" >2166</td>\n",
       "            </tr>\n",
       "            <tr>\n",
       "                                        <td id=\"T_9d8c1312_0a00_11eb_95d8_acde48001122row2_col0\" class=\"data row2 col0\" >MaxPaymentAmountOverLast6Months</td>\n",
       "                        <td id=\"T_9d8c1312_0a00_11eb_95d8_acde48001122row2_col1\" class=\"data row2 col1\" >100</td>\n",
       "                        <td id=\"T_9d8c1312_0a00_11eb_95d8_acde48001122row2_col2\" class=\"data row2 col2\" >&#8594;</td>\n",
       "                        <td id=\"T_9d8c1312_0a00_11eb_95d8_acde48001122row2_col3\" class=\"data row2 col3\" >110</td>\n",
       "            </tr>\n",
       "            <tr>\n",
       "                                        <td id=\"T_9d8c1312_0a00_11eb_95d8_acde48001122row3_col0\" class=\"data row3 col0\" >MaxBillAmountOverLast6Months</td>\n",
       "                        <td id=\"T_9d8c1312_0a00_11eb_95d8_acde48001122row3_col1\" class=\"data row3 col1\" >2060</td>\n",
       "                        <td id=\"T_9d8c1312_0a00_11eb_95d8_acde48001122row3_col2\" class=\"data row3 col2\" >&#8594;</td>\n",
       "                        <td id=\"T_9d8c1312_0a00_11eb_95d8_acde48001122row3_col3\" class=\"data row3 col3\" >2166</td>\n",
       "            </tr>\n",
       "            <tr>\n",
       "                                        <td id=\"T_9d8c1312_0a00_11eb_95d8_acde48001122row4_col0\" class=\"data row4 col0\" >MostRecentBillAmount</td>\n",
       "                        <td id=\"T_9d8c1312_0a00_11eb_95d8_acde48001122row4_col1\" class=\"data row4 col1\" >2010</td>\n",
       "                        <td id=\"T_9d8c1312_0a00_11eb_95d8_acde48001122row4_col2\" class=\"data row4 col2\" >&#8594;</td>\n",
       "                        <td id=\"T_9d8c1312_0a00_11eb_95d8_acde48001122row4_col3\" class=\"data row4 col3\" >1926</td>\n",
       "            </tr>\n",
       "            <tr>\n",
       "                                        <td id=\"T_9d8c1312_0a00_11eb_95d8_acde48001122row5_col0\" class=\"data row5 col0\" >MaxBillAmountOverLast6Months</td>\n",
       "                        <td id=\"T_9d8c1312_0a00_11eb_95d8_acde48001122row5_col1\" class=\"data row5 col1\" >2060</td>\n",
       "                        <td id=\"T_9d8c1312_0a00_11eb_95d8_acde48001122row5_col2\" class=\"data row5 col2\" >&#8594;</td>\n",
       "                        <td id=\"T_9d8c1312_0a00_11eb_95d8_acde48001122row5_col3\" class=\"data row5 col3\" >2166</td>\n",
       "            </tr>\n",
       "            <tr>\n",
       "                                        <td id=\"T_9d8c1312_0a00_11eb_95d8_acde48001122row6_col0\" class=\"data row6 col0\" >MostRecentPaymentAmount</td>\n",
       "                        <td id=\"T_9d8c1312_0a00_11eb_95d8_acde48001122row6_col1\" class=\"data row6 col1\" >100</td>\n",
       "                        <td id=\"T_9d8c1312_0a00_11eb_95d8_acde48001122row6_col2\" class=\"data row6 col2\" >&#8594;</td>\n",
       "                        <td id=\"T_9d8c1312_0a00_11eb_95d8_acde48001122row6_col3\" class=\"data row6 col3\" >105</td>\n",
       "            </tr>\n",
       "            <tr>\n",
       "                                        <td id=\"T_9d8c1312_0a00_11eb_95d8_acde48001122row7_col0\" class=\"data row7 col0\" >MonthsWithLowSpendingOverLast6Months</td>\n",
       "                        <td id=\"T_9d8c1312_0a00_11eb_95d8_acde48001122row7_col1\" class=\"data row7 col1\" >0</td>\n",
       "                        <td id=\"T_9d8c1312_0a00_11eb_95d8_acde48001122row7_col2\" class=\"data row7 col2\" >&#8594;</td>\n",
       "                        <td id=\"T_9d8c1312_0a00_11eb_95d8_acde48001122row7_col3\" class=\"data row7 col3\" >1</td>\n",
       "            </tr>\n",
       "    </tbody></table>"
      ],
      "text/plain": [
       "<IPython.core.display.HTML object>"
      ]
     },
     "metadata": {},
     "output_type": "display_data"
    }
   ],
   "source": [
    "# Let's produce a list of actions that can change this person's predictions\n",
    "fs = rs.Flipset(x, action_set = A, clf = clf)\n",
    "fs.populate(enumeration_type = 'distinct_subsets', total_items = 5)\n",
    "html_str = fs.to_html()\n",
    "display(HTML(html_str));"
   ]
  },
  {
   "cell_type": "code",
   "execution_count": 31,
   "metadata": {},
   "outputs": [],
   "source": [
    "def get_score(x, clf=clf):\n",
    "    return ((x).dot(clf.coef_[0]) + clf.intercept_[0])[0]"
   ]
  },
  {
   "cell_type": "code",
   "execution_count": 32,
   "metadata": {},
   "outputs": [
    {
     "data": {
      "text/plain": [
       "-0.00910430380250779"
      ]
     },
     "execution_count": 32,
     "metadata": {},
     "output_type": "execute_result"
    }
   ],
   "source": [
    "get_score(x)"
   ]
  },
  {
   "cell_type": "code",
   "execution_count": 33,
   "metadata": {},
   "outputs": [
    {
     "data": {
      "text/plain": [
       "0.010600351114092882"
      ]
     },
     "execution_count": 33,
     "metadata": {},
     "output_type": "execute_result"
    }
   ],
   "source": [
    "get_score(x + fs.actions[0])"
   ]
  },
  {
   "cell_type": "code",
   "execution_count": 34,
   "metadata": {},
   "outputs": [],
   "source": [
    "# Person for which flipset is empty\n",
    "# To-Do find a person who has no recourse\n",
    "# no recourse = #2020\n",
    "\n",
    "# These are cases where people have no recourse\n",
    "# They have no action to obtain a desired outcome\n",
    "# We could provide them with principals reasons for the denial, but it would be misleading."
   ]
  },
  {
   "cell_type": "code",
   "execution_count": 50,
   "metadata": {
    "scrolled": true
   },
   "outputs": [
    {
     "name": "stdout",
     "output_type": "stream",
     "text": [
      "recovered all minimum-cost items\n",
      "obtained 0 items in 0.0 seconds\n"
     ]
    },
    {
     "data": {
      "text/html": [
       "<span style=\"text-shadow: 0px 1px 1px #4d4d4d; color: 'black'; font: 30px 'LeagueGothicRegular'; background-color:#e2efd8\">No Recourse</span>"
      ],
      "text/plain": [
       "<IPython.core.display.HTML object>"
      ]
     },
     "metadata": {},
     "output_type": "display_data"
    }
   ],
   "source": [
    "p_threshold = .95\n",
    "score_threshold = np.log(p_threshold / (1. - p_threshold))\n",
    "\n",
    "x = X.values[[649]]\n",
    "fs = rs.Flipset(x, action_set = A, coefficients=clf.coef_[0], intercept=clf.intercept_[0] - score_threshold)\n",
    "fs.populate(enumeration_type = 'distinct_subsets', total_items = 5)\n",
    "html_str = fs.to_html()\n",
    "display(HTML(html_str))"
   ]
  },
  {
   "cell_type": "markdown",
   "metadata": {},
   "source": [
    "# Recourse Verification"
   ]
  },
  {
   "cell_type": "markdown",
   "metadata": {},
   "source": [
    "## Basic Audits"
   ]
  },
  {
   "cell_type": "code",
   "execution_count": 59,
   "metadata": {},
   "outputs": [
    {
     "data": {
      "application/vnd.jupyter.widget-view+json": {
       "model_id": "6a5a62ee0b7a4474ae19ad28077e7efa",
       "version_major": 2,
       "version_minor": 0
      },
      "text/plain": [
       "HBox(children=(IntProgress(value=0, max=98), HTML(value='')))"
      ]
     },
     "metadata": {},
     "output_type": "display_data"
    }
   ],
   "source": [
    "# Basic Recourse Verification with 1 Model\n",
    "# Use the auditor on 100 points (live)\n",
    "# It's super easy\n",
    "\n",
    "# How many people are dnied\n",
    "# How many have recourse?\n",
    "# How difficult is that recourse?\n",
    "\n",
    "from recourse import RecourseAuditor\n",
    "pred_neg = clf.predict(X) == 0\n",
    "\n",
    "ra = RecourseAuditor(\n",
    "    action_set=A,\n",
    "    coefficients=clf.coef_[0],\n",
    "    intercept=clf.intercept_[0] - score_threshold,\n",
    "    solver='python-mip'\n",
    ")\n",
    "\n",
    "audit_output = ra.audit(X.sample(100))"
   ]
  },
  {
   "cell_type": "code",
   "execution_count": 60,
   "metadata": {},
   "outputs": [
    {
     "data": {
      "text/plain": [
       "True     97\n",
       "False     1\n",
       "Name: feasible, dtype: int64"
      ]
     },
     "execution_count": 60,
     "metadata": {},
     "output_type": "execute_result"
    }
   ],
   "source": [
    "audit_output['feasible'].value_counts()"
   ]
  },
  {
   "cell_type": "markdown",
   "metadata": {},
   "source": [
    "## Internal Audits for Model Development"
   ]
  },
  {
   "cell_type": "code",
   "execution_count": null,
   "metadata": {},
   "outputs": [],
   "source": [
    "# Show normal graphs 2 x 1"
   ]
  },
  {
   "cell_type": "code",
   "execution_count": null,
   "metadata": {},
   "outputs": [],
   "source": [
    "# Show normal graphs + recourse graphs (2 x 2)"
   ]
  }
 ],
 "metadata": {
  "kernelspec": {
   "display_name": "Python 3",
   "language": "python",
   "name": "python3"
  },
  "language_info": {
   "codemirror_mode": {
    "name": "ipython",
    "version": 3
   },
   "file_extension": ".py",
   "mimetype": "text/x-python",
   "name": "python",
   "nbconvert_exporter": "python",
   "pygments_lexer": "ipython3",
   "version": "3.7.6"
  },
  "pycharm": {
   "stem_cell": {
    "cell_type": "raw",
    "metadata": {
     "collapsed": false
    },
    "source": []
   }
  }
 },
 "nbformat": 4,
 "nbformat_minor": 2
}
