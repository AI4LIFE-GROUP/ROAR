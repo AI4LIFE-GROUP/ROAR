{
 "cells": [
  {
   "cell_type": "code",
   "execution_count": 1,
   "metadata": {},
   "outputs": [
    {
     "data": {
      "text/html": [
       "<div>\n",
       "<style scoped>\n",
       "    .dataframe tbody tr th:only-of-type {\n",
       "        vertical-align: middle;\n",
       "    }\n",
       "\n",
       "    .dataframe tbody tr th {\n",
       "        vertical-align: top;\n",
       "    }\n",
       "\n",
       "    .dataframe thead th {\n",
       "        text-align: right;\n",
       "    }\n",
       "</style>\n",
       "<table border=\"1\" class=\"dataframe\">\n",
       "  <thead>\n",
       "    <tr style=\"text-align: right;\">\n",
       "      <th></th>\n",
       "      <th>Married</th>\n",
       "      <th>Single</th>\n",
       "      <th>Age_lt_25</th>\n",
       "      <th>Age_in_25_to_40</th>\n",
       "      <th>Age_in_40_to_59</th>\n",
       "      <th>...</th>\n",
       "      <th>MostRecentBillAmount</th>\n",
       "      <th>MostRecentPaymentAmount</th>\n",
       "      <th>TotalOverdueCounts</th>\n",
       "      <th>TotalMonthsOverdue</th>\n",
       "      <th>HistoryOfOverduePayments</th>\n",
       "    </tr>\n",
       "  </thead>\n",
       "  <tbody>\n",
       "    <tr>\n",
       "      <th>0</th>\n",
       "      <td>1</td>\n",
       "      <td>0</td>\n",
       "      <td>1</td>\n",
       "      <td>0</td>\n",
       "      <td>0</td>\n",
       "      <td>...</td>\n",
       "      <td>120</td>\n",
       "      <td>0</td>\n",
       "      <td>1</td>\n",
       "      <td>4</td>\n",
       "      <td>1</td>\n",
       "    </tr>\n",
       "    <tr>\n",
       "      <th>1</th>\n",
       "      <td>0</td>\n",
       "      <td>1</td>\n",
       "      <td>0</td>\n",
       "      <td>1</td>\n",
       "      <td>0</td>\n",
       "      <td>...</td>\n",
       "      <td>80</td>\n",
       "      <td>0</td>\n",
       "      <td>2</td>\n",
       "      <td>4</td>\n",
       "      <td>1</td>\n",
       "    </tr>\n",
       "    <tr>\n",
       "      <th>2</th>\n",
       "      <td>0</td>\n",
       "      <td>1</td>\n",
       "      <td>0</td>\n",
       "      <td>1</td>\n",
       "      <td>0</td>\n",
       "      <td>...</td>\n",
       "      <td>890</td>\n",
       "      <td>50</td>\n",
       "      <td>0</td>\n",
       "      <td>0</td>\n",
       "      <td>0</td>\n",
       "    </tr>\n",
       "    <tr>\n",
       "      <th>3</th>\n",
       "      <td>1</td>\n",
       "      <td>0</td>\n",
       "      <td>0</td>\n",
       "      <td>1</td>\n",
       "      <td>0</td>\n",
       "      <td>...</td>\n",
       "      <td>1430</td>\n",
       "      <td>60</td>\n",
       "      <td>0</td>\n",
       "      <td>0</td>\n",
       "      <td>0</td>\n",
       "    </tr>\n",
       "    <tr>\n",
       "      <th>4</th>\n",
       "      <td>1</td>\n",
       "      <td>0</td>\n",
       "      <td>0</td>\n",
       "      <td>0</td>\n",
       "      <td>1</td>\n",
       "      <td>...</td>\n",
       "      <td>260</td>\n",
       "      <td>60</td>\n",
       "      <td>0</td>\n",
       "      <td>0</td>\n",
       "      <td>0</td>\n",
       "    </tr>\n",
       "  </tbody>\n",
       "</table>\n",
       "<p>5 rows × 17 columns</p>\n",
       "</div>"
      ],
      "text/plain": [
       "   Married  Single  Age_lt_25  Age_in_25_to_40  Age_in_40_to_59  ...  \\\n",
       "0        1       0          1                0                0  ...   \n",
       "1        0       1          0                1                0  ...   \n",
       "2        0       1          0                1                0  ...   \n",
       "3        1       0          0                1                0  ...   \n",
       "4        1       0          0                0                1  ...   \n",
       "\n",
       "   MostRecentBillAmount  MostRecentPaymentAmount  TotalOverdueCounts  \\\n",
       "0                   120                        0                   1   \n",
       "1                    80                        0                   2   \n",
       "2                   890                       50                   0   \n",
       "3                  1430                       60                   0   \n",
       "4                   260                       60                   0   \n",
       "\n",
       "   TotalMonthsOverdue  HistoryOfOverduePayments  \n",
       "0                   4                         1  \n",
       "1                   4                         1  \n",
       "2                   0                         0  \n",
       "3                   0                         0  \n",
       "4                   0                         0  \n",
       "\n",
       "[5 rows x 17 columns]"
      ]
     },
     "execution_count": 1,
     "metadata": {},
     "output_type": "execute_result"
    }
   ],
   "source": [
    "from sklearn.linear_model import LogisticRegression\n",
    "from IPython.display import HTML\n",
    "from tqdm import tqdm_notebook\n",
    "import sys; sys.path.append('paper')\n",
    "from initialize import * # user settings: feel free to change\n",
    "\n",
    "data, scaler = load_data() # helper function to load in a dictionary containing our dataset.\n",
    "data['X'].head()"
   ]
  },
  {
   "cell_type": "markdown",
   "metadata": {},
   "source": [
    "# Set up our Actionset"
   ]
  },
  {
   "cell_type": "code",
   "execution_count": 2,
   "metadata": {},
   "outputs": [],
   "source": [
    "# action set\n",
    "default_bounds = (1.0, 99.0, 'percentile')\n",
    "custom_bounds = None\n",
    "immutable_variables = []\n",
    "if settings['data_name'] == 'credit':\n",
    "    ## set features in our input data that are immutable: \n",
    "    ##     i.e. individuals will not be asked to change any of these \n",
    "    ##          variables when the optimizer seeks recourse.\n",
    "    immutable_names = ['Female', 'Single', 'Married']\n",
    "    immutable_names += list(filter(lambda x: 'Age' in x or 'Overdue' in x, data['variable_names']))\n",
    "    data['immutable_variable_names'] = [n for n in immutable_names if n in data['variable_names']]\n",
    "\n",
    "    ## set the default and custom bounds we wish to search over.\n",
    "    default_bounds = (0.1, 99.9, 'percentile')\n",
    "    custom_bounds = {'Female': (0, 100, 'p'),  'Married': (0, 100, 'p')}\n",
    "    \n",
    "    ## \n",
    "    action_set = ActionSet(X = data['X'], custom_bounds = custom_bounds, default_bounds = default_bounds)\n",
    "    action_set[data['immutable_variable_names']].mutable = False\n",
    "\n",
    "    ## set other custom behaviors in each of the data types.\n",
    "    action_set['EducationLevel'].step_direction = 1\n",
    "    payment_fields = list(filter(lambda x: 'Amount' in x, data['variable_names']))\n",
    "    action_set[payment_fields].step_type = 'absolute'\n",
    "    action_set[payment_fields].step_size = 50\n",
    "\n",
    "    for p in payment_fields:\n",
    "        action_set[p].update_grid()"
   ]
  },
  {
   "cell_type": "markdown",
   "metadata": {},
   "source": [
    "# Generate a Flipset"
   ]
  },
  {
   "cell_type": "code",
   "execution_count": 4,
   "metadata": {},
   "outputs": [],
   "source": [
    "clf = (\n",
    "    LogisticRegression(C=.02, max_iter=1000, penalty='l1', solver='saga', tol=1e-8)\n",
    "       .fit(data['X_train'], data['y'])\n",
    ")"
   ]
  },
  {
   "cell_type": "code",
   "execution_count": null,
   "metadata": {},
   "outputs": [],
   "source": [
    "### Create Flipset\n",
    "yhat = clf.predict(X = data['X_train'])\n",
    "coefficients, intercept = undo_coefficient_scaling(clf, scaler = data['scaler'])\n",
    "action_set.align(coefficients)\n",
    "predicted_neg = np.flatnonzero(yhat < 1)\n",
    "U = data['X'].iloc[predicted_neg].values\n",
    "\n",
    "## \n",
    "k = 4\n",
    "fb = Flipset(x = U[k], action_set = action_set, coefficients = coefficients, intercept = intercept)\n",
    "fb.populate(enumeration_type = 'distinct_subsets', total_items = 14)"
   ]
  },
  {
   "cell_type": "code",
   "execution_count": 7,
   "metadata": {},
   "outputs": [
    {
     "data": {
      "text/html": [
       "<style  type=\"text/css\" >\n",
       "    #T_04624140_53fc_11e9_9c84_f26e0bc550fd tr {\n",
       "          background-color: white;\n",
       "    }    #T_04624140_53fc_11e9_9c84_f26e0bc550fdrow0_col0 {\n",
       "            background-color:  white;\n",
       "        }    #T_04624140_53fc_11e9_9c84_f26e0bc550fdrow0_col1 {\n",
       "            background-color:  white;\n",
       "        }    #T_04624140_53fc_11e9_9c84_f26e0bc550fdrow0_col2 {\n",
       "            background-color:  white;\n",
       "        }    #T_04624140_53fc_11e9_9c84_f26e0bc550fdrow0_col3 {\n",
       "            background-color:  white;\n",
       "        }    #T_04624140_53fc_11e9_9c84_f26e0bc550fdrow1_col0 {\n",
       "            background-color:  lightgray;\n",
       "        }    #T_04624140_53fc_11e9_9c84_f26e0bc550fdrow1_col1 {\n",
       "            background-color:  lightgray;\n",
       "        }    #T_04624140_53fc_11e9_9c84_f26e0bc550fdrow1_col2 {\n",
       "            background-color:  lightgray;\n",
       "        }    #T_04624140_53fc_11e9_9c84_f26e0bc550fdrow1_col3 {\n",
       "            background-color:  lightgray;\n",
       "        }    #T_04624140_53fc_11e9_9c84_f26e0bc550fdrow2_col0 {\n",
       "            background-color:  lightgray;\n",
       "        }    #T_04624140_53fc_11e9_9c84_f26e0bc550fdrow2_col1 {\n",
       "            background-color:  lightgray;\n",
       "        }    #T_04624140_53fc_11e9_9c84_f26e0bc550fdrow2_col2 {\n",
       "            background-color:  lightgray;\n",
       "        }    #T_04624140_53fc_11e9_9c84_f26e0bc550fdrow2_col3 {\n",
       "            background-color:  lightgray;\n",
       "        }    #T_04624140_53fc_11e9_9c84_f26e0bc550fdrow3_col0 {\n",
       "            background-color:  white;\n",
       "        }    #T_04624140_53fc_11e9_9c84_f26e0bc550fdrow3_col1 {\n",
       "            background-color:  white;\n",
       "        }    #T_04624140_53fc_11e9_9c84_f26e0bc550fdrow3_col2 {\n",
       "            background-color:  white;\n",
       "        }    #T_04624140_53fc_11e9_9c84_f26e0bc550fdrow3_col3 {\n",
       "            background-color:  white;\n",
       "        }    #T_04624140_53fc_11e9_9c84_f26e0bc550fdrow4_col0 {\n",
       "            background-color:  white;\n",
       "        }    #T_04624140_53fc_11e9_9c84_f26e0bc550fdrow4_col1 {\n",
       "            background-color:  white;\n",
       "        }    #T_04624140_53fc_11e9_9c84_f26e0bc550fdrow4_col2 {\n",
       "            background-color:  white;\n",
       "        }    #T_04624140_53fc_11e9_9c84_f26e0bc550fdrow4_col3 {\n",
       "            background-color:  white;\n",
       "        }    #T_04624140_53fc_11e9_9c84_f26e0bc550fdrow5_col0 {\n",
       "            background-color:  lightgray;\n",
       "        }    #T_04624140_53fc_11e9_9c84_f26e0bc550fdrow5_col1 {\n",
       "            background-color:  lightgray;\n",
       "        }    #T_04624140_53fc_11e9_9c84_f26e0bc550fdrow5_col2 {\n",
       "            background-color:  lightgray;\n",
       "        }    #T_04624140_53fc_11e9_9c84_f26e0bc550fdrow5_col3 {\n",
       "            background-color:  lightgray;\n",
       "        }    #T_04624140_53fc_11e9_9c84_f26e0bc550fdrow6_col0 {\n",
       "            background-color:  lightgray;\n",
       "        }    #T_04624140_53fc_11e9_9c84_f26e0bc550fdrow6_col1 {\n",
       "            background-color:  lightgray;\n",
       "        }    #T_04624140_53fc_11e9_9c84_f26e0bc550fdrow6_col2 {\n",
       "            background-color:  lightgray;\n",
       "        }    #T_04624140_53fc_11e9_9c84_f26e0bc550fdrow6_col3 {\n",
       "            background-color:  lightgray;\n",
       "        }    #T_04624140_53fc_11e9_9c84_f26e0bc550fdrow7_col0 {\n",
       "            background-color:  lightgray;\n",
       "        }    #T_04624140_53fc_11e9_9c84_f26e0bc550fdrow7_col1 {\n",
       "            background-color:  lightgray;\n",
       "        }    #T_04624140_53fc_11e9_9c84_f26e0bc550fdrow7_col2 {\n",
       "            background-color:  lightgray;\n",
       "        }    #T_04624140_53fc_11e9_9c84_f26e0bc550fdrow7_col3 {\n",
       "            background-color:  lightgray;\n",
       "        }    #T_04624140_53fc_11e9_9c84_f26e0bc550fdrow8_col0 {\n",
       "            background-color:  white;\n",
       "        }    #T_04624140_53fc_11e9_9c84_f26e0bc550fdrow8_col1 {\n",
       "            background-color:  white;\n",
       "        }    #T_04624140_53fc_11e9_9c84_f26e0bc550fdrow8_col2 {\n",
       "            background-color:  white;\n",
       "        }    #T_04624140_53fc_11e9_9c84_f26e0bc550fdrow8_col3 {\n",
       "            background-color:  white;\n",
       "        }    #T_04624140_53fc_11e9_9c84_f26e0bc550fdrow9_col0 {\n",
       "            background-color:  white;\n",
       "        }    #T_04624140_53fc_11e9_9c84_f26e0bc550fdrow9_col1 {\n",
       "            background-color:  white;\n",
       "        }    #T_04624140_53fc_11e9_9c84_f26e0bc550fdrow9_col2 {\n",
       "            background-color:  white;\n",
       "        }    #T_04624140_53fc_11e9_9c84_f26e0bc550fdrow9_col3 {\n",
       "            background-color:  white;\n",
       "        }    #T_04624140_53fc_11e9_9c84_f26e0bc550fdrow10_col0 {\n",
       "            background-color:  lightgray;\n",
       "        }    #T_04624140_53fc_11e9_9c84_f26e0bc550fdrow10_col1 {\n",
       "            background-color:  lightgray;\n",
       "        }    #T_04624140_53fc_11e9_9c84_f26e0bc550fdrow10_col2 {\n",
       "            background-color:  lightgray;\n",
       "        }    #T_04624140_53fc_11e9_9c84_f26e0bc550fdrow10_col3 {\n",
       "            background-color:  lightgray;\n",
       "        }    #T_04624140_53fc_11e9_9c84_f26e0bc550fdrow11_col0 {\n",
       "            background-color:  lightgray;\n",
       "        }    #T_04624140_53fc_11e9_9c84_f26e0bc550fdrow11_col1 {\n",
       "            background-color:  lightgray;\n",
       "        }    #T_04624140_53fc_11e9_9c84_f26e0bc550fdrow11_col2 {\n",
       "            background-color:  lightgray;\n",
       "        }    #T_04624140_53fc_11e9_9c84_f26e0bc550fdrow11_col3 {\n",
       "            background-color:  lightgray;\n",
       "        }    #T_04624140_53fc_11e9_9c84_f26e0bc550fdrow12_col0 {\n",
       "            background-color:  lightgray;\n",
       "        }    #T_04624140_53fc_11e9_9c84_f26e0bc550fdrow12_col1 {\n",
       "            background-color:  lightgray;\n",
       "        }    #T_04624140_53fc_11e9_9c84_f26e0bc550fdrow12_col2 {\n",
       "            background-color:  lightgray;\n",
       "        }    #T_04624140_53fc_11e9_9c84_f26e0bc550fdrow12_col3 {\n",
       "            background-color:  lightgray;\n",
       "        }    #T_04624140_53fc_11e9_9c84_f26e0bc550fdrow13_col0 {\n",
       "            background-color:  white;\n",
       "        }    #T_04624140_53fc_11e9_9c84_f26e0bc550fdrow13_col1 {\n",
       "            background-color:  white;\n",
       "        }    #T_04624140_53fc_11e9_9c84_f26e0bc550fdrow13_col2 {\n",
       "            background-color:  white;\n",
       "        }    #T_04624140_53fc_11e9_9c84_f26e0bc550fdrow13_col3 {\n",
       "            background-color:  white;\n",
       "        }    #T_04624140_53fc_11e9_9c84_f26e0bc550fdrow14_col0 {\n",
       "            background-color:  white;\n",
       "        }    #T_04624140_53fc_11e9_9c84_f26e0bc550fdrow14_col1 {\n",
       "            background-color:  white;\n",
       "        }    #T_04624140_53fc_11e9_9c84_f26e0bc550fdrow14_col2 {\n",
       "            background-color:  white;\n",
       "        }    #T_04624140_53fc_11e9_9c84_f26e0bc550fdrow14_col3 {\n",
       "            background-color:  white;\n",
       "        }    #T_04624140_53fc_11e9_9c84_f26e0bc550fdrow15_col0 {\n",
       "            background-color:  white;\n",
       "        }    #T_04624140_53fc_11e9_9c84_f26e0bc550fdrow15_col1 {\n",
       "            background-color:  white;\n",
       "        }    #T_04624140_53fc_11e9_9c84_f26e0bc550fdrow15_col2 {\n",
       "            background-color:  white;\n",
       "        }    #T_04624140_53fc_11e9_9c84_f26e0bc550fdrow15_col3 {\n",
       "            background-color:  white;\n",
       "        }    #T_04624140_53fc_11e9_9c84_f26e0bc550fdrow16_col0 {\n",
       "            background-color:  lightgray;\n",
       "        }    #T_04624140_53fc_11e9_9c84_f26e0bc550fdrow16_col1 {\n",
       "            background-color:  lightgray;\n",
       "        }    #T_04624140_53fc_11e9_9c84_f26e0bc550fdrow16_col2 {\n",
       "            background-color:  lightgray;\n",
       "        }    #T_04624140_53fc_11e9_9c84_f26e0bc550fdrow16_col3 {\n",
       "            background-color:  lightgray;\n",
       "        }    #T_04624140_53fc_11e9_9c84_f26e0bc550fdrow17_col0 {\n",
       "            background-color:  lightgray;\n",
       "        }    #T_04624140_53fc_11e9_9c84_f26e0bc550fdrow17_col1 {\n",
       "            background-color:  lightgray;\n",
       "        }    #T_04624140_53fc_11e9_9c84_f26e0bc550fdrow17_col2 {\n",
       "            background-color:  lightgray;\n",
       "        }    #T_04624140_53fc_11e9_9c84_f26e0bc550fdrow17_col3 {\n",
       "            background-color:  lightgray;\n",
       "        }    #T_04624140_53fc_11e9_9c84_f26e0bc550fdrow18_col0 {\n",
       "            background-color:  lightgray;\n",
       "        }    #T_04624140_53fc_11e9_9c84_f26e0bc550fdrow18_col1 {\n",
       "            background-color:  lightgray;\n",
       "        }    #T_04624140_53fc_11e9_9c84_f26e0bc550fdrow18_col2 {\n",
       "            background-color:  lightgray;\n",
       "        }    #T_04624140_53fc_11e9_9c84_f26e0bc550fdrow18_col3 {\n",
       "            background-color:  lightgray;\n",
       "        }    #T_04624140_53fc_11e9_9c84_f26e0bc550fdrow19_col0 {\n",
       "            background-color:  lightgray;\n",
       "        }    #T_04624140_53fc_11e9_9c84_f26e0bc550fdrow19_col1 {\n",
       "            background-color:  lightgray;\n",
       "        }    #T_04624140_53fc_11e9_9c84_f26e0bc550fdrow19_col2 {\n",
       "            background-color:  lightgray;\n",
       "        }    #T_04624140_53fc_11e9_9c84_f26e0bc550fdrow19_col3 {\n",
       "            background-color:  lightgray;\n",
       "        }    #T_04624140_53fc_11e9_9c84_f26e0bc550fdrow20_col0 {\n",
       "            background-color:  white;\n",
       "        }    #T_04624140_53fc_11e9_9c84_f26e0bc550fdrow20_col1 {\n",
       "            background-color:  white;\n",
       "        }    #T_04624140_53fc_11e9_9c84_f26e0bc550fdrow20_col2 {\n",
       "            background-color:  white;\n",
       "        }    #T_04624140_53fc_11e9_9c84_f26e0bc550fdrow20_col3 {\n",
       "            background-color:  white;\n",
       "        }    #T_04624140_53fc_11e9_9c84_f26e0bc550fdrow21_col0 {\n",
       "            background-color:  lightgray;\n",
       "        }    #T_04624140_53fc_11e9_9c84_f26e0bc550fdrow21_col1 {\n",
       "            background-color:  lightgray;\n",
       "        }    #T_04624140_53fc_11e9_9c84_f26e0bc550fdrow21_col2 {\n",
       "            background-color:  lightgray;\n",
       "        }    #T_04624140_53fc_11e9_9c84_f26e0bc550fdrow21_col3 {\n",
       "            background-color:  lightgray;\n",
       "        }    #T_04624140_53fc_11e9_9c84_f26e0bc550fdrow22_col0 {\n",
       "            background-color:  lightgray;\n",
       "        }    #T_04624140_53fc_11e9_9c84_f26e0bc550fdrow22_col1 {\n",
       "            background-color:  lightgray;\n",
       "        }    #T_04624140_53fc_11e9_9c84_f26e0bc550fdrow22_col2 {\n",
       "            background-color:  lightgray;\n",
       "        }    #T_04624140_53fc_11e9_9c84_f26e0bc550fdrow22_col3 {\n",
       "            background-color:  lightgray;\n",
       "        }    #T_04624140_53fc_11e9_9c84_f26e0bc550fdrow23_col0 {\n",
       "            background-color:  white;\n",
       "        }    #T_04624140_53fc_11e9_9c84_f26e0bc550fdrow23_col1 {\n",
       "            background-color:  white;\n",
       "        }    #T_04624140_53fc_11e9_9c84_f26e0bc550fdrow23_col2 {\n",
       "            background-color:  white;\n",
       "        }    #T_04624140_53fc_11e9_9c84_f26e0bc550fdrow23_col3 {\n",
       "            background-color:  white;\n",
       "        }    #T_04624140_53fc_11e9_9c84_f26e0bc550fdrow24_col0 {\n",
       "            background-color:  white;\n",
       "        }    #T_04624140_53fc_11e9_9c84_f26e0bc550fdrow24_col1 {\n",
       "            background-color:  white;\n",
       "        }    #T_04624140_53fc_11e9_9c84_f26e0bc550fdrow24_col2 {\n",
       "            background-color:  white;\n",
       "        }    #T_04624140_53fc_11e9_9c84_f26e0bc550fdrow24_col3 {\n",
       "            background-color:  white;\n",
       "        }    #T_04624140_53fc_11e9_9c84_f26e0bc550fdrow25_col0 {\n",
       "            background-color:  lightgray;\n",
       "        }    #T_04624140_53fc_11e9_9c84_f26e0bc550fdrow25_col1 {\n",
       "            background-color:  lightgray;\n",
       "        }    #T_04624140_53fc_11e9_9c84_f26e0bc550fdrow25_col2 {\n",
       "            background-color:  lightgray;\n",
       "        }    #T_04624140_53fc_11e9_9c84_f26e0bc550fdrow25_col3 {\n",
       "            background-color:  lightgray;\n",
       "        }    #T_04624140_53fc_11e9_9c84_f26e0bc550fdrow26_col0 {\n",
       "            background-color:  lightgray;\n",
       "        }    #T_04624140_53fc_11e9_9c84_f26e0bc550fdrow26_col1 {\n",
       "            background-color:  lightgray;\n",
       "        }    #T_04624140_53fc_11e9_9c84_f26e0bc550fdrow26_col2 {\n",
       "            background-color:  lightgray;\n",
       "        }    #T_04624140_53fc_11e9_9c84_f26e0bc550fdrow26_col3 {\n",
       "            background-color:  lightgray;\n",
       "        }    #T_04624140_53fc_11e9_9c84_f26e0bc550fdrow27_col0 {\n",
       "            background-color:  lightgray;\n",
       "        }    #T_04624140_53fc_11e9_9c84_f26e0bc550fdrow27_col1 {\n",
       "            background-color:  lightgray;\n",
       "        }    #T_04624140_53fc_11e9_9c84_f26e0bc550fdrow27_col2 {\n",
       "            background-color:  lightgray;\n",
       "        }    #T_04624140_53fc_11e9_9c84_f26e0bc550fdrow27_col3 {\n",
       "            background-color:  lightgray;\n",
       "        }    #T_04624140_53fc_11e9_9c84_f26e0bc550fdrow28_col0 {\n",
       "            background-color:  white;\n",
       "        }    #T_04624140_53fc_11e9_9c84_f26e0bc550fdrow28_col1 {\n",
       "            background-color:  white;\n",
       "        }    #T_04624140_53fc_11e9_9c84_f26e0bc550fdrow28_col2 {\n",
       "            background-color:  white;\n",
       "        }    #T_04624140_53fc_11e9_9c84_f26e0bc550fdrow28_col3 {\n",
       "            background-color:  white;\n",
       "        }    #T_04624140_53fc_11e9_9c84_f26e0bc550fdrow29_col0 {\n",
       "            background-color:  lightgray;\n",
       "        }    #T_04624140_53fc_11e9_9c84_f26e0bc550fdrow29_col1 {\n",
       "            background-color:  lightgray;\n",
       "        }    #T_04624140_53fc_11e9_9c84_f26e0bc550fdrow29_col2 {\n",
       "            background-color:  lightgray;\n",
       "        }    #T_04624140_53fc_11e9_9c84_f26e0bc550fdrow29_col3 {\n",
       "            background-color:  lightgray;\n",
       "        }    #T_04624140_53fc_11e9_9c84_f26e0bc550fdrow30_col0 {\n",
       "            background-color:  lightgray;\n",
       "        }    #T_04624140_53fc_11e9_9c84_f26e0bc550fdrow30_col1 {\n",
       "            background-color:  lightgray;\n",
       "        }    #T_04624140_53fc_11e9_9c84_f26e0bc550fdrow30_col2 {\n",
       "            background-color:  lightgray;\n",
       "        }    #T_04624140_53fc_11e9_9c84_f26e0bc550fdrow30_col3 {\n",
       "            background-color:  lightgray;\n",
       "        }</style><table id=\"T_04624140_53fc_11e9_9c84_f26e0bc550fd\" ><thead>    <tr>        <th class=\"blank\" ></th>        <th class=\"blank level0\" ></th>        <th class=\"col_heading level0 col0\" >features</th>        <th class=\"col_heading level0 col1\" >x</th>        <th class=\"col_heading level0 col2\" >to</th>        <th class=\"col_heading level0 col3\" >x_new</th>    </tr></thead><tbody>\n",
       "                <tr>\n",
       "                        <th id=\"T_04624140_53fc_11e9_9c84_f26e0bc550fdlevel0_row0\" class=\"row_heading level0 row0\" >0</th>\n",
       "                        <th id=\"T_04624140_53fc_11e9_9c84_f26e0bc550fdlevel1_row0\" class=\"row_heading level1 row0\" >1</th>\n",
       "                        <td id=\"T_04624140_53fc_11e9_9c84_f26e0bc550fdrow0_col0\" class=\"data row0 col0\" >MostRecentPaymentAmount</td>\n",
       "                        <td id=\"T_04624140_53fc_11e9_9c84_f26e0bc550fdrow0_col1\" class=\"data row0 col1\" >0</td>\n",
       "                        <td id=\"T_04624140_53fc_11e9_9c84_f26e0bc550fdrow0_col2\" class=\"data row0 col2\" >&#8594;</td>\n",
       "                        <td id=\"T_04624140_53fc_11e9_9c84_f26e0bc550fdrow0_col3\" class=\"data row0 col3\" >800</td>\n",
       "            </tr>\n",
       "            <tr>\n",
       "                        <th id=\"T_04624140_53fc_11e9_9c84_f26e0bc550fdlevel0_row1\" class=\"row_heading level0 row1\" rowspan=2>1</th>\n",
       "                        <th id=\"T_04624140_53fc_11e9_9c84_f26e0bc550fdlevel1_row1\" class=\"row_heading level1 row1\" >1</th>\n",
       "                        <td id=\"T_04624140_53fc_11e9_9c84_f26e0bc550fdrow1_col0\" class=\"data row1 col0\" >MaxPaymentAmountOverLast6Months</td>\n",
       "                        <td id=\"T_04624140_53fc_11e9_9c84_f26e0bc550fdrow1_col1\" class=\"data row1 col1\" >40</td>\n",
       "                        <td id=\"T_04624140_53fc_11e9_9c84_f26e0bc550fdrow1_col2\" class=\"data row1 col2\" >&#8594;</td>\n",
       "                        <td id=\"T_04624140_53fc_11e9_9c84_f26e0bc550fdrow1_col3\" class=\"data row1 col3\" >50</td>\n",
       "            </tr>\n",
       "            <tr>\n",
       "                                <th id=\"T_04624140_53fc_11e9_9c84_f26e0bc550fdlevel1_row2\" class=\"row_heading level1 row2\" >2</th>\n",
       "                        <td id=\"T_04624140_53fc_11e9_9c84_f26e0bc550fdrow2_col0\" class=\"data row2 col0\" >MostRecentPaymentAmount</td>\n",
       "                        <td id=\"T_04624140_53fc_11e9_9c84_f26e0bc550fdrow2_col1\" class=\"data row2 col1\" >0</td>\n",
       "                        <td id=\"T_04624140_53fc_11e9_9c84_f26e0bc550fdrow2_col2\" class=\"data row2 col2\" >&#8594;</td>\n",
       "                        <td id=\"T_04624140_53fc_11e9_9c84_f26e0bc550fdrow2_col3\" class=\"data row2 col3\" >800</td>\n",
       "            </tr>\n",
       "            <tr>\n",
       "                        <th id=\"T_04624140_53fc_11e9_9c84_f26e0bc550fdlevel0_row3\" class=\"row_heading level0 row3\" rowspan=2>2</th>\n",
       "                        <th id=\"T_04624140_53fc_11e9_9c84_f26e0bc550fdlevel1_row3\" class=\"row_heading level1 row3\" >1</th>\n",
       "                        <td id=\"T_04624140_53fc_11e9_9c84_f26e0bc550fdrow3_col0\" class=\"data row3 col0\" >MaxBillAmountOverLast6Months</td>\n",
       "                        <td id=\"T_04624140_53fc_11e9_9c84_f26e0bc550fdrow3_col1\" class=\"data row3 col1\" >50</td>\n",
       "                        <td id=\"T_04624140_53fc_11e9_9c84_f26e0bc550fdrow3_col2\" class=\"data row3 col2\" >&#8594;</td>\n",
       "                        <td id=\"T_04624140_53fc_11e9_9c84_f26e0bc550fdrow3_col3\" class=\"data row3 col3\" >100</td>\n",
       "            </tr>\n",
       "            <tr>\n",
       "                                <th id=\"T_04624140_53fc_11e9_9c84_f26e0bc550fdlevel1_row4\" class=\"row_heading level1 row4\" >2</th>\n",
       "                        <td id=\"T_04624140_53fc_11e9_9c84_f26e0bc550fdrow4_col0\" class=\"data row4 col0\" >MostRecentPaymentAmount</td>\n",
       "                        <td id=\"T_04624140_53fc_11e9_9c84_f26e0bc550fdrow4_col1\" class=\"data row4 col1\" >0</td>\n",
       "                        <td id=\"T_04624140_53fc_11e9_9c84_f26e0bc550fdrow4_col2\" class=\"data row4 col2\" >&#8594;</td>\n",
       "                        <td id=\"T_04624140_53fc_11e9_9c84_f26e0bc550fdrow4_col3\" class=\"data row4 col3\" >800</td>\n",
       "            </tr>\n",
       "            <tr>\n",
       "                        <th id=\"T_04624140_53fc_11e9_9c84_f26e0bc550fdlevel0_row5\" class=\"row_heading level0 row5\" rowspan=3>3</th>\n",
       "                        <th id=\"T_04624140_53fc_11e9_9c84_f26e0bc550fdlevel1_row5\" class=\"row_heading level1 row5\" >1</th>\n",
       "                        <td id=\"T_04624140_53fc_11e9_9c84_f26e0bc550fdrow5_col0\" class=\"data row5 col0\" >MostRecentPaymentAmount</td>\n",
       "                        <td id=\"T_04624140_53fc_11e9_9c84_f26e0bc550fdrow5_col1\" class=\"data row5 col1\" >0</td>\n",
       "                        <td id=\"T_04624140_53fc_11e9_9c84_f26e0bc550fdrow5_col2\" class=\"data row5 col2\" >&#8594;</td>\n",
       "                        <td id=\"T_04624140_53fc_11e9_9c84_f26e0bc550fdrow5_col3\" class=\"data row5 col3\" >800</td>\n",
       "            </tr>\n",
       "            <tr>\n",
       "                                <th id=\"T_04624140_53fc_11e9_9c84_f26e0bc550fdlevel1_row6\" class=\"row_heading level1 row6\" >2</th>\n",
       "                        <td id=\"T_04624140_53fc_11e9_9c84_f26e0bc550fdrow6_col0\" class=\"data row6 col0\" >MaxPaymentAmountOverLast6Months</td>\n",
       "                        <td id=\"T_04624140_53fc_11e9_9c84_f26e0bc550fdrow6_col1\" class=\"data row6 col1\" >40</td>\n",
       "                        <td id=\"T_04624140_53fc_11e9_9c84_f26e0bc550fdrow6_col2\" class=\"data row6 col2\" >&#8594;</td>\n",
       "                        <td id=\"T_04624140_53fc_11e9_9c84_f26e0bc550fdrow6_col3\" class=\"data row6 col3\" >50</td>\n",
       "            </tr>\n",
       "            <tr>\n",
       "                                <th id=\"T_04624140_53fc_11e9_9c84_f26e0bc550fdlevel1_row7\" class=\"row_heading level1 row7\" >3</th>\n",
       "                        <td id=\"T_04624140_53fc_11e9_9c84_f26e0bc550fdrow7_col0\" class=\"data row7 col0\" >MaxBillAmountOverLast6Months</td>\n",
       "                        <td id=\"T_04624140_53fc_11e9_9c84_f26e0bc550fdrow7_col1\" class=\"data row7 col1\" >50</td>\n",
       "                        <td id=\"T_04624140_53fc_11e9_9c84_f26e0bc550fdrow7_col2\" class=\"data row7 col2\" >&#8594;</td>\n",
       "                        <td id=\"T_04624140_53fc_11e9_9c84_f26e0bc550fdrow7_col3\" class=\"data row7 col3\" >100</td>\n",
       "            </tr>\n",
       "            <tr>\n",
       "                        <th id=\"T_04624140_53fc_11e9_9c84_f26e0bc550fdlevel0_row8\" class=\"row_heading level0 row8\" rowspan=2>4</th>\n",
       "                        <th id=\"T_04624140_53fc_11e9_9c84_f26e0bc550fdlevel1_row8\" class=\"row_heading level1 row8\" >1</th>\n",
       "                        <td id=\"T_04624140_53fc_11e9_9c84_f26e0bc550fdrow8_col0\" class=\"data row8 col0\" >MostRecentPaymentAmount</td>\n",
       "                        <td id=\"T_04624140_53fc_11e9_9c84_f26e0bc550fdrow8_col1\" class=\"data row8 col1\" >0</td>\n",
       "                        <td id=\"T_04624140_53fc_11e9_9c84_f26e0bc550fdrow8_col2\" class=\"data row8 col2\" >&#8594;</td>\n",
       "                        <td id=\"T_04624140_53fc_11e9_9c84_f26e0bc550fdrow8_col3\" class=\"data row8 col3\" >550</td>\n",
       "            </tr>\n",
       "            <tr>\n",
       "                                <th id=\"T_04624140_53fc_11e9_9c84_f26e0bc550fdlevel1_row9\" class=\"row_heading level1 row9\" >2</th>\n",
       "                        <td id=\"T_04624140_53fc_11e9_9c84_f26e0bc550fdrow9_col0\" class=\"data row9 col0\" >MonthsWithZeroBalanceOverLast6Months</td>\n",
       "                        <td id=\"T_04624140_53fc_11e9_9c84_f26e0bc550fdrow9_col1\" class=\"data row9 col1\" >1</td>\n",
       "                        <td id=\"T_04624140_53fc_11e9_9c84_f26e0bc550fdrow9_col2\" class=\"data row9 col2\" >&#8594;</td>\n",
       "                        <td id=\"T_04624140_53fc_11e9_9c84_f26e0bc550fdrow9_col3\" class=\"data row9 col3\" >2</td>\n",
       "            </tr>\n",
       "            <tr>\n",
       "                        <th id=\"T_04624140_53fc_11e9_9c84_f26e0bc550fdlevel0_row10\" class=\"row_heading level0 row10\" rowspan=3>5</th>\n",
       "                        <th id=\"T_04624140_53fc_11e9_9c84_f26e0bc550fdlevel1_row10\" class=\"row_heading level1 row10\" >1</th>\n",
       "                        <td id=\"T_04624140_53fc_11e9_9c84_f26e0bc550fdrow10_col0\" class=\"data row10 col0\" >MostRecentPaymentAmount</td>\n",
       "                        <td id=\"T_04624140_53fc_11e9_9c84_f26e0bc550fdrow10_col1\" class=\"data row10 col1\" >0</td>\n",
       "                        <td id=\"T_04624140_53fc_11e9_9c84_f26e0bc550fdrow10_col2\" class=\"data row10 col2\" >&#8594;</td>\n",
       "                        <td id=\"T_04624140_53fc_11e9_9c84_f26e0bc550fdrow10_col3\" class=\"data row10 col3\" >550</td>\n",
       "            </tr>\n",
       "            <tr>\n",
       "                                <th id=\"T_04624140_53fc_11e9_9c84_f26e0bc550fdlevel1_row11\" class=\"row_heading level1 row11\" >2</th>\n",
       "                        <td id=\"T_04624140_53fc_11e9_9c84_f26e0bc550fdrow11_col0\" class=\"data row11 col0\" >MaxPaymentAmountOverLast6Months</td>\n",
       "                        <td id=\"T_04624140_53fc_11e9_9c84_f26e0bc550fdrow11_col1\" class=\"data row11 col1\" >40</td>\n",
       "                        <td id=\"T_04624140_53fc_11e9_9c84_f26e0bc550fdrow11_col2\" class=\"data row11 col2\" >&#8594;</td>\n",
       "                        <td id=\"T_04624140_53fc_11e9_9c84_f26e0bc550fdrow11_col3\" class=\"data row11 col3\" >50</td>\n",
       "            </tr>\n",
       "            <tr>\n",
       "                                <th id=\"T_04624140_53fc_11e9_9c84_f26e0bc550fdlevel1_row12\" class=\"row_heading level1 row12\" >3</th>\n",
       "                        <td id=\"T_04624140_53fc_11e9_9c84_f26e0bc550fdrow12_col0\" class=\"data row12 col0\" >MonthsWithZeroBalanceOverLast6Months</td>\n",
       "                        <td id=\"T_04624140_53fc_11e9_9c84_f26e0bc550fdrow12_col1\" class=\"data row12 col1\" >1</td>\n",
       "                        <td id=\"T_04624140_53fc_11e9_9c84_f26e0bc550fdrow12_col2\" class=\"data row12 col2\" >&#8594;</td>\n",
       "                        <td id=\"T_04624140_53fc_11e9_9c84_f26e0bc550fdrow12_col3\" class=\"data row12 col3\" >2</td>\n",
       "            </tr>\n",
       "            <tr>\n",
       "                        <th id=\"T_04624140_53fc_11e9_9c84_f26e0bc550fdlevel0_row13\" class=\"row_heading level0 row13\" rowspan=3>6</th>\n",
       "                        <th id=\"T_04624140_53fc_11e9_9c84_f26e0bc550fdlevel1_row13\" class=\"row_heading level1 row13\" >1</th>\n",
       "                        <td id=\"T_04624140_53fc_11e9_9c84_f26e0bc550fdrow13_col0\" class=\"data row13 col0\" >MaxBillAmountOverLast6Months</td>\n",
       "                        <td id=\"T_04624140_53fc_11e9_9c84_f26e0bc550fdrow13_col1\" class=\"data row13 col1\" >50</td>\n",
       "                        <td id=\"T_04624140_53fc_11e9_9c84_f26e0bc550fdrow13_col2\" class=\"data row13 col2\" >&#8594;</td>\n",
       "                        <td id=\"T_04624140_53fc_11e9_9c84_f26e0bc550fdrow13_col3\" class=\"data row13 col3\" >100</td>\n",
       "            </tr>\n",
       "            <tr>\n",
       "                                <th id=\"T_04624140_53fc_11e9_9c84_f26e0bc550fdlevel1_row14\" class=\"row_heading level1 row14\" >2</th>\n",
       "                        <td id=\"T_04624140_53fc_11e9_9c84_f26e0bc550fdrow14_col0\" class=\"data row14 col0\" >MostRecentPaymentAmount</td>\n",
       "                        <td id=\"T_04624140_53fc_11e9_9c84_f26e0bc550fdrow14_col1\" class=\"data row14 col1\" >0</td>\n",
       "                        <td id=\"T_04624140_53fc_11e9_9c84_f26e0bc550fdrow14_col2\" class=\"data row14 col2\" >&#8594;</td>\n",
       "                        <td id=\"T_04624140_53fc_11e9_9c84_f26e0bc550fdrow14_col3\" class=\"data row14 col3\" >550</td>\n",
       "            </tr>\n",
       "            <tr>\n",
       "                                <th id=\"T_04624140_53fc_11e9_9c84_f26e0bc550fdlevel1_row15\" class=\"row_heading level1 row15\" >3</th>\n",
       "                        <td id=\"T_04624140_53fc_11e9_9c84_f26e0bc550fdrow15_col0\" class=\"data row15 col0\" >MonthsWithZeroBalanceOverLast6Months</td>\n",
       "                        <td id=\"T_04624140_53fc_11e9_9c84_f26e0bc550fdrow15_col1\" class=\"data row15 col1\" >1</td>\n",
       "                        <td id=\"T_04624140_53fc_11e9_9c84_f26e0bc550fdrow15_col2\" class=\"data row15 col2\" >&#8594;</td>\n",
       "                        <td id=\"T_04624140_53fc_11e9_9c84_f26e0bc550fdrow15_col3\" class=\"data row15 col3\" >2</td>\n",
       "            </tr>\n",
       "            <tr>\n",
       "                        <th id=\"T_04624140_53fc_11e9_9c84_f26e0bc550fdlevel0_row16\" class=\"row_heading level0 row16\" rowspan=4>7</th>\n",
       "                        <th id=\"T_04624140_53fc_11e9_9c84_f26e0bc550fdlevel1_row16\" class=\"row_heading level1 row16\" >1</th>\n",
       "                        <td id=\"T_04624140_53fc_11e9_9c84_f26e0bc550fdrow16_col0\" class=\"data row16 col0\" >MaxPaymentAmountOverLast6Months</td>\n",
       "                        <td id=\"T_04624140_53fc_11e9_9c84_f26e0bc550fdrow16_col1\" class=\"data row16 col1\" >40</td>\n",
       "                        <td id=\"T_04624140_53fc_11e9_9c84_f26e0bc550fdrow16_col2\" class=\"data row16 col2\" >&#8594;</td>\n",
       "                        <td id=\"T_04624140_53fc_11e9_9c84_f26e0bc550fdrow16_col3\" class=\"data row16 col3\" >50</td>\n",
       "            </tr>\n",
       "            <tr>\n",
       "                                <th id=\"T_04624140_53fc_11e9_9c84_f26e0bc550fdlevel1_row17\" class=\"row_heading level1 row17\" >2</th>\n",
       "                        <td id=\"T_04624140_53fc_11e9_9c84_f26e0bc550fdrow17_col0\" class=\"data row17 col0\" >MaxBillAmountOverLast6Months</td>\n",
       "                        <td id=\"T_04624140_53fc_11e9_9c84_f26e0bc550fdrow17_col1\" class=\"data row17 col1\" >50</td>\n",
       "                        <td id=\"T_04624140_53fc_11e9_9c84_f26e0bc550fdrow17_col2\" class=\"data row17 col2\" >&#8594;</td>\n",
       "                        <td id=\"T_04624140_53fc_11e9_9c84_f26e0bc550fdrow17_col3\" class=\"data row17 col3\" >100</td>\n",
       "            </tr>\n",
       "            <tr>\n",
       "                                <th id=\"T_04624140_53fc_11e9_9c84_f26e0bc550fdlevel1_row18\" class=\"row_heading level1 row18\" >3</th>\n",
       "                        <td id=\"T_04624140_53fc_11e9_9c84_f26e0bc550fdrow18_col0\" class=\"data row18 col0\" >MostRecentPaymentAmount</td>\n",
       "                        <td id=\"T_04624140_53fc_11e9_9c84_f26e0bc550fdrow18_col1\" class=\"data row18 col1\" >0</td>\n",
       "                        <td id=\"T_04624140_53fc_11e9_9c84_f26e0bc550fdrow18_col2\" class=\"data row18 col2\" >&#8594;</td>\n",
       "                        <td id=\"T_04624140_53fc_11e9_9c84_f26e0bc550fdrow18_col3\" class=\"data row18 col3\" >550</td>\n",
       "            </tr>\n",
       "            <tr>\n",
       "                                <th id=\"T_04624140_53fc_11e9_9c84_f26e0bc550fdlevel1_row19\" class=\"row_heading level1 row19\" >4</th>\n",
       "                        <td id=\"T_04624140_53fc_11e9_9c84_f26e0bc550fdrow19_col0\" class=\"data row19 col0\" >MonthsWithZeroBalanceOverLast6Months</td>\n",
       "                        <td id=\"T_04624140_53fc_11e9_9c84_f26e0bc550fdrow19_col1\" class=\"data row19 col1\" >1</td>\n",
       "                        <td id=\"T_04624140_53fc_11e9_9c84_f26e0bc550fdrow19_col2\" class=\"data row19 col2\" >&#8594;</td>\n",
       "                        <td id=\"T_04624140_53fc_11e9_9c84_f26e0bc550fdrow19_col3\" class=\"data row19 col3\" >2</td>\n",
       "            </tr>\n",
       "            <tr>\n",
       "                        <th id=\"T_04624140_53fc_11e9_9c84_f26e0bc550fdlevel0_row20\" class=\"row_heading level0 row20\" >8</th>\n",
       "                        <th id=\"T_04624140_53fc_11e9_9c84_f26e0bc550fdlevel1_row20\" class=\"row_heading level1 row20\" >1</th>\n",
       "                        <td id=\"T_04624140_53fc_11e9_9c84_f26e0bc550fdrow20_col0\" class=\"data row20 col0\" >MonthsWithZeroBalanceOverLast6Months</td>\n",
       "                        <td id=\"T_04624140_53fc_11e9_9c84_f26e0bc550fdrow20_col1\" class=\"data row20 col1\" >1</td>\n",
       "                        <td id=\"T_04624140_53fc_11e9_9c84_f26e0bc550fdrow20_col2\" class=\"data row20 col2\" >&#8594;</td>\n",
       "                        <td id=\"T_04624140_53fc_11e9_9c84_f26e0bc550fdrow20_col3\" class=\"data row20 col3\" >4</td>\n",
       "            </tr>\n",
       "            <tr>\n",
       "                        <th id=\"T_04624140_53fc_11e9_9c84_f26e0bc550fdlevel0_row21\" class=\"row_heading level0 row21\" rowspan=2>9</th>\n",
       "                        <th id=\"T_04624140_53fc_11e9_9c84_f26e0bc550fdlevel1_row21\" class=\"row_heading level1 row21\" >1</th>\n",
       "                        <td id=\"T_04624140_53fc_11e9_9c84_f26e0bc550fdrow21_col0\" class=\"data row21 col0\" >MonthsWithZeroBalanceOverLast6Months</td>\n",
       "                        <td id=\"T_04624140_53fc_11e9_9c84_f26e0bc550fdrow21_col1\" class=\"data row21 col1\" >1</td>\n",
       "                        <td id=\"T_04624140_53fc_11e9_9c84_f26e0bc550fdrow21_col2\" class=\"data row21 col2\" >&#8594;</td>\n",
       "                        <td id=\"T_04624140_53fc_11e9_9c84_f26e0bc550fdrow21_col3\" class=\"data row21 col3\" >4</td>\n",
       "            </tr>\n",
       "            <tr>\n",
       "                                <th id=\"T_04624140_53fc_11e9_9c84_f26e0bc550fdlevel1_row22\" class=\"row_heading level1 row22\" >2</th>\n",
       "                        <td id=\"T_04624140_53fc_11e9_9c84_f26e0bc550fdrow22_col0\" class=\"data row22 col0\" >MaxPaymentAmountOverLast6Months</td>\n",
       "                        <td id=\"T_04624140_53fc_11e9_9c84_f26e0bc550fdrow22_col1\" class=\"data row22 col1\" >40</td>\n",
       "                        <td id=\"T_04624140_53fc_11e9_9c84_f26e0bc550fdrow22_col2\" class=\"data row22 col2\" >&#8594;</td>\n",
       "                        <td id=\"T_04624140_53fc_11e9_9c84_f26e0bc550fdrow22_col3\" class=\"data row22 col3\" >50</td>\n",
       "            </tr>\n",
       "            <tr>\n",
       "                        <th id=\"T_04624140_53fc_11e9_9c84_f26e0bc550fdlevel0_row23\" class=\"row_heading level0 row23\" rowspan=2>10</th>\n",
       "                        <th id=\"T_04624140_53fc_11e9_9c84_f26e0bc550fdlevel1_row23\" class=\"row_heading level1 row23\" >1</th>\n",
       "                        <td id=\"T_04624140_53fc_11e9_9c84_f26e0bc550fdrow23_col0\" class=\"data row23 col0\" >MonthsWithZeroBalanceOverLast6Months</td>\n",
       "                        <td id=\"T_04624140_53fc_11e9_9c84_f26e0bc550fdrow23_col1\" class=\"data row23 col1\" >1</td>\n",
       "                        <td id=\"T_04624140_53fc_11e9_9c84_f26e0bc550fdrow23_col2\" class=\"data row23 col2\" >&#8594;</td>\n",
       "                        <td id=\"T_04624140_53fc_11e9_9c84_f26e0bc550fdrow23_col3\" class=\"data row23 col3\" >4</td>\n",
       "            </tr>\n",
       "            <tr>\n",
       "                                <th id=\"T_04624140_53fc_11e9_9c84_f26e0bc550fdlevel1_row24\" class=\"row_heading level1 row24\" >2</th>\n",
       "                        <td id=\"T_04624140_53fc_11e9_9c84_f26e0bc550fdrow24_col0\" class=\"data row24 col0\" >MaxBillAmountOverLast6Months</td>\n",
       "                        <td id=\"T_04624140_53fc_11e9_9c84_f26e0bc550fdrow24_col1\" class=\"data row24 col1\" >50</td>\n",
       "                        <td id=\"T_04624140_53fc_11e9_9c84_f26e0bc550fdrow24_col2\" class=\"data row24 col2\" >&#8594;</td>\n",
       "                        <td id=\"T_04624140_53fc_11e9_9c84_f26e0bc550fdrow24_col3\" class=\"data row24 col3\" >100</td>\n",
       "            </tr>\n",
       "            <tr>\n",
       "                        <th id=\"T_04624140_53fc_11e9_9c84_f26e0bc550fdlevel0_row25\" class=\"row_heading level0 row25\" rowspan=3>11</th>\n",
       "                        <th id=\"T_04624140_53fc_11e9_9c84_f26e0bc550fdlevel1_row25\" class=\"row_heading level1 row25\" >1</th>\n",
       "                        <td id=\"T_04624140_53fc_11e9_9c84_f26e0bc550fdrow25_col0\" class=\"data row25 col0\" >MaxBillAmountOverLast6Months</td>\n",
       "                        <td id=\"T_04624140_53fc_11e9_9c84_f26e0bc550fdrow25_col1\" class=\"data row25 col1\" >50</td>\n",
       "                        <td id=\"T_04624140_53fc_11e9_9c84_f26e0bc550fdrow25_col2\" class=\"data row25 col2\" >&#8594;</td>\n",
       "                        <td id=\"T_04624140_53fc_11e9_9c84_f26e0bc550fdrow25_col3\" class=\"data row25 col3\" >100</td>\n",
       "            </tr>\n",
       "            <tr>\n",
       "                                <th id=\"T_04624140_53fc_11e9_9c84_f26e0bc550fdlevel1_row26\" class=\"row_heading level1 row26\" >2</th>\n",
       "                        <td id=\"T_04624140_53fc_11e9_9c84_f26e0bc550fdrow26_col0\" class=\"data row26 col0\" >MaxPaymentAmountOverLast6Months</td>\n",
       "                        <td id=\"T_04624140_53fc_11e9_9c84_f26e0bc550fdrow26_col1\" class=\"data row26 col1\" >40</td>\n",
       "                        <td id=\"T_04624140_53fc_11e9_9c84_f26e0bc550fdrow26_col2\" class=\"data row26 col2\" >&#8594;</td>\n",
       "                        <td id=\"T_04624140_53fc_11e9_9c84_f26e0bc550fdrow26_col3\" class=\"data row26 col3\" >50</td>\n",
       "            </tr>\n",
       "            <tr>\n",
       "                                <th id=\"T_04624140_53fc_11e9_9c84_f26e0bc550fdlevel1_row27\" class=\"row_heading level1 row27\" >3</th>\n",
       "                        <td id=\"T_04624140_53fc_11e9_9c84_f26e0bc550fdrow27_col0\" class=\"data row27 col0\" >MonthsWithZeroBalanceOverLast6Months</td>\n",
       "                        <td id=\"T_04624140_53fc_11e9_9c84_f26e0bc550fdrow27_col1\" class=\"data row27 col1\" >1</td>\n",
       "                        <td id=\"T_04624140_53fc_11e9_9c84_f26e0bc550fdrow27_col2\" class=\"data row27 col2\" >&#8594;</td>\n",
       "                        <td id=\"T_04624140_53fc_11e9_9c84_f26e0bc550fdrow27_col3\" class=\"data row27 col3\" >4</td>\n",
       "            </tr>\n",
       "            <tr>\n",
       "                        <th id=\"T_04624140_53fc_11e9_9c84_f26e0bc550fdlevel0_row28\" class=\"row_heading level0 row28\" >12</th>\n",
       "                        <th id=\"T_04624140_53fc_11e9_9c84_f26e0bc550fdlevel1_row28\" class=\"row_heading level1 row28\" >1</th>\n",
       "                        <td id=\"T_04624140_53fc_11e9_9c84_f26e0bc550fdrow28_col0\" class=\"data row28 col0\" >MaxPaymentAmountOverLast6Months</td>\n",
       "                        <td id=\"T_04624140_53fc_11e9_9c84_f26e0bc550fdrow28_col1\" class=\"data row28 col1\" >40</td>\n",
       "                        <td id=\"T_04624140_53fc_11e9_9c84_f26e0bc550fdrow28_col2\" class=\"data row28 col2\" >&#8594;</td>\n",
       "                        <td id=\"T_04624140_53fc_11e9_9c84_f26e0bc550fdrow28_col3\" class=\"data row28 col3\" >4450</td>\n",
       "            </tr>\n",
       "            <tr>\n",
       "                        <th id=\"T_04624140_53fc_11e9_9c84_f26e0bc550fdlevel0_row29\" class=\"row_heading level0 row29\" rowspan=2>13</th>\n",
       "                        <th id=\"T_04624140_53fc_11e9_9c84_f26e0bc550fdlevel1_row29\" class=\"row_heading level1 row29\" >1</th>\n",
       "                        <td id=\"T_04624140_53fc_11e9_9c84_f26e0bc550fdrow29_col0\" class=\"data row29 col0\" >MaxPaymentAmountOverLast6Months</td>\n",
       "                        <td id=\"T_04624140_53fc_11e9_9c84_f26e0bc550fdrow29_col1\" class=\"data row29 col1\" >40</td>\n",
       "                        <td id=\"T_04624140_53fc_11e9_9c84_f26e0bc550fdrow29_col2\" class=\"data row29 col2\" >&#8594;</td>\n",
       "                        <td id=\"T_04624140_53fc_11e9_9c84_f26e0bc550fdrow29_col3\" class=\"data row29 col3\" >4450</td>\n",
       "            </tr>\n",
       "            <tr>\n",
       "                                <th id=\"T_04624140_53fc_11e9_9c84_f26e0bc550fdlevel1_row30\" class=\"row_heading level1 row30\" >2</th>\n",
       "                        <td id=\"T_04624140_53fc_11e9_9c84_f26e0bc550fdrow30_col0\" class=\"data row30 col0\" >MaxBillAmountOverLast6Months</td>\n",
       "                        <td id=\"T_04624140_53fc_11e9_9c84_f26e0bc550fdrow30_col1\" class=\"data row30 col1\" >50</td>\n",
       "                        <td id=\"T_04624140_53fc_11e9_9c84_f26e0bc550fdrow30_col2\" class=\"data row30 col2\" >&#8594;</td>\n",
       "                        <td id=\"T_04624140_53fc_11e9_9c84_f26e0bc550fdrow30_col3\" class=\"data row30 col3\" >100</td>\n",
       "            </tr>\n",
       "    </tbody></table>"
      ],
      "text/plain": [
       "<IPython.core.display.HTML object>"
      ]
     },
     "execution_count": 7,
     "metadata": {},
     "output_type": "execute_result"
    }
   ],
   "source": [
    "from IPython.display import HTML\n",
    "HTML(fb.to_html())"
   ]
  },
  {
   "cell_type": "markdown",
   "metadata": {},
   "source": [
    "# Train classifiers"
   ]
  },
  {
   "cell_type": "code",
   "execution_count": 29,
   "metadata": {},
   "outputs": [],
   "source": [
    "from copy import deepcopy as copy"
   ]
  },
  {
   "cell_type": "code",
   "execution_count": 36,
   "metadata": {
    "scrolled": true
   },
   "outputs": [
    {
     "name": "stdout",
     "output_type": "stream",
     "text": [
      "Fitting 10 folds for each of 10 candidates, totalling 100 fits\n"
     ]
    },
    {
     "name": "stderr",
     "output_type": "stream",
     "text": [
      "[Parallel(n_jobs=-1)]: Using backend LokyBackend with 4 concurrent workers.\n",
      "[Parallel(n_jobs=-1)]: Done  42 tasks      | elapsed:  1.8min\n",
      "[Parallel(n_jobs=-1)]: Done 100 out of 100 | elapsed:  3.1min finished\n"
     ]
    }
   ],
   "source": [
    "from sklearn.model_selection import StratifiedKFold as CVGenerator\n",
    "from sklearn.model_selection import GridSearchCV\n",
    "cv_generator = CVGenerator(n_splits = 10, random_state = settings['randomseed'])\n",
    "\n",
    "# this code is for general purpose train/test evaluation using GridSearchCV\n",
    "gridsearch = GridSearchCV(\n",
    "    clf, param_grid={\"C\":[1.0 / l for l in [1, 2, 5, 10, 20, 50, 100, 200, 500, 1000]]},\n",
    "    scoring='neg_mean_squared_error',\n",
    "    return_train_score=True,\n",
    "    cv=cv_generator,\n",
    "    verbose=1,\n",
    "    n_jobs=-1\n",
    ")\n",
    "\n",
    "if settings['normalize_data']:\n",
    "    gridsearch.fit(data['X_scaled'], data['y'])\n",
    "else:\n",
    "    gridsearch.fit(data['X'], data['y'])\n",
    "grid_search_df = pd.DataFrame(gridsearch.cv_results_)"
   ]
  },
  {
   "cell_type": "code",
   "execution_count": 37,
   "metadata": {},
   "outputs": [
    {
     "data": {
      "application/vnd.jupyter.widget-view+json": {
       "model_id": "17d83c037e4b4359a71a82af671f481e",
       "version_major": 2,
       "version_minor": 0
      },
      "text/plain": [
       "HBox(children=(IntProgress(value=0, max=10), HTML(value='')))"
      ]
     },
     "metadata": {},
     "output_type": "display_data"
    }
   ],
   "source": [
    "# cache a model for each parameter combination, trained on all data\n",
    "model_dict = {}\n",
    "grid_search_df['key'] = pd.np.nan\n",
    "for idx, p in tqdm_notebook(list(grid_search_df.params.iteritems())):\n",
    "    if settings['normalize_data']:\n",
    "        model = copy(clf.set_params(**p)).fit(data['X_scaled'], data['y'])\n",
    "    else:\n",
    "        model = copy(clf.set_params(**p)).fit(data['X'], data['y'])\n",
    "\n",
    "    key = '__'.join(map(lambda x: '%s_%s' % x, p.items()))\n",
    "    model_dict[key] = model\n",
    "    grid_search_df.loc[idx, 'key'] = key"
   ]
  },
  {
   "cell_type": "code",
   "execution_count": 50,
   "metadata": {},
   "outputs": [],
   "source": [
    "model_stats_df = refomat_gridsearch_df(\n",
    "    grid_search_df,\n",
    "    settings=settings,\n",
    "    n_coefficients = data['X'].shape[1],\n",
    "    invert_C=settings['method_name'] == 'logreg'\n",
    ")"
   ]
  },
  {
   "cell_type": "markdown",
   "metadata": {},
   "source": [
    "# Run Audit"
   ]
  },
  {
   "cell_type": "code",
   "execution_count": 38,
   "metadata": {
    "scrolled": true
   },
   "outputs": [
    {
     "name": "stdout",
     "output_type": "stream",
     "text": [
      "Auditing for model C_1.0...\n"
     ]
    },
    {
     "data": {
      "application/vnd.jupyter.widget-view+json": {
       "model_id": "0dcfb3c7fa5b46cdb3783cd2989846aa",
       "version_major": 2,
       "version_minor": 0
      },
      "text/plain": [
       "HBox(children=(IntProgress(value=0, max=2903), HTML(value='')))"
      ]
     },
     "metadata": {},
     "output_type": "display_data"
    },
    {
     "name": "stdout",
     "output_type": "stream",
     "text": [
      "Auditing for model C_0.5...\n"
     ]
    },
    {
     "data": {
      "application/vnd.jupyter.widget-view+json": {
       "model_id": "6c73ac6f01a442969e15dd4ff3c58b5a",
       "version_major": 2,
       "version_minor": 0
      },
      "text/plain": [
       "HBox(children=(IntProgress(value=0, max=2902), HTML(value='')))"
      ]
     },
     "metadata": {},
     "output_type": "display_data"
    },
    {
     "name": "stdout",
     "output_type": "stream",
     "text": [
      "Auditing for model C_0.2...\n"
     ]
    },
    {
     "data": {
      "application/vnd.jupyter.widget-view+json": {
       "model_id": "d9cf09c9728f40418ff65721a1c750b0",
       "version_major": 2,
       "version_minor": 0
      },
      "text/plain": [
       "HBox(children=(IntProgress(value=0, max=2898), HTML(value='')))"
      ]
     },
     "metadata": {},
     "output_type": "display_data"
    },
    {
     "name": "stdout",
     "output_type": "stream",
     "text": [
      "Auditing for model C_0.1...\n"
     ]
    },
    {
     "data": {
      "application/vnd.jupyter.widget-view+json": {
       "model_id": "39d74d3634564439bf7b2e7295a090e2",
       "version_major": 2,
       "version_minor": 0
      },
      "text/plain": [
       "HBox(children=(IntProgress(value=0, max=2901), HTML(value='')))"
      ]
     },
     "metadata": {},
     "output_type": "display_data"
    },
    {
     "name": "stdout",
     "output_type": "stream",
     "text": [
      "Auditing for model C_0.05...\n"
     ]
    },
    {
     "data": {
      "application/vnd.jupyter.widget-view+json": {
       "model_id": "351fb886daf14fe7a3b81bf4b1fe6385",
       "version_major": 2,
       "version_minor": 0
      },
      "text/plain": [
       "HBox(children=(IntProgress(value=0, max=2880), HTML(value='')))"
      ]
     },
     "metadata": {},
     "output_type": "display_data"
    },
    {
     "name": "stdout",
     "output_type": "stream",
     "text": [
      "Auditing for model C_0.02...\n"
     ]
    },
    {
     "data": {
      "application/vnd.jupyter.widget-view+json": {
       "model_id": "9adbed2313234156bff5467eea923aca",
       "version_major": 2,
       "version_minor": 0
      },
      "text/plain": [
       "HBox(children=(IntProgress(value=0, max=2867), HTML(value='')))"
      ]
     },
     "metadata": {},
     "output_type": "display_data"
    },
    {
     "name": "stdout",
     "output_type": "stream",
     "text": [
      "Auditing for model C_0.01...\n"
     ]
    },
    {
     "data": {
      "application/vnd.jupyter.widget-view+json": {
       "model_id": "32a66effade94254aed6447235c4be75",
       "version_major": 2,
       "version_minor": 0
      },
      "text/plain": [
       "HBox(children=(IntProgress(value=0, max=2808), HTML(value='')))"
      ]
     },
     "metadata": {},
     "output_type": "display_data"
    },
    {
     "name": "stdout",
     "output_type": "stream",
     "text": [
      "Auditing for model C_0.005...\n"
     ]
    },
    {
     "data": {
      "application/vnd.jupyter.widget-view+json": {
       "model_id": "4430197bd61244e79f7a91282d23f0c7",
       "version_major": 2,
       "version_minor": 0
      },
      "text/plain": [
       "HBox(children=(IntProgress(value=0, max=2664), HTML(value='')))"
      ]
     },
     "metadata": {},
     "output_type": "display_data"
    },
    {
     "name": "stdout",
     "output_type": "stream",
     "text": [
      "Auditing for model C_0.002...\n"
     ]
    },
    {
     "data": {
      "application/vnd.jupyter.widget-view+json": {
       "model_id": "37c2afd180234de6841b6573017dcbad",
       "version_major": 2,
       "version_minor": 0
      },
      "text/plain": [
       "HBox(children=(IntProgress(value=0, max=2237), HTML(value='')))"
      ]
     },
     "metadata": {},
     "output_type": "display_data"
    },
    {
     "name": "stdout",
     "output_type": "stream",
     "text": [
      "Auditing for model C_0.001...\n"
     ]
    },
    {
     "data": {
      "application/vnd.jupyter.widget-view+json": {
       "model_id": "c6d52cc20f5b4d7396e9d9c4befae5c4",
       "version_major": 2,
       "version_minor": 0
      },
      "text/plain": [
       "HBox(children=(IntProgress(value=0, max=1765), HTML(value='')))"
      ]
     },
     "metadata": {},
     "output_type": "display_data"
    }
   ],
   "source": [
    "audit_results = {}\n",
    "for key, clf in model_dict.items():\n",
    "    if settings['method_name'] == 'logreg':\n",
    "        model_name = 1. / float(key.split('_')[1])\n",
    "    else:\n",
    "        model_name = float(key.split('_')[1])\n",
    "        \n",
    "    # unscale coefficients\n",
    "    if scaler is not None:\n",
    "        coefficients, intercept = undo_coefficient_scaling(coefficients = np.array(clf.coef_).flatten(), intercept = clf.intercept_[0], scaler = scaler)\n",
    "    else:\n",
    "        coefficients, intercept = np.array(clf.coef_).flatten(), clf.intercept_[0]\n",
    "\n",
    "    ## run audit\n",
    "    print(\"Auditing for model %s...\" % key)\n",
    "    auditor = RecourseAuditor(\n",
    "        action_set,\n",
    "        coefficients = coefficients,\n",
    "        intercept = intercept\n",
    "    )\n",
    "    audit_results[model_name] = auditor.audit(X = data['X'])\n",
    "\n",
    "\n",
    "## cache\n",
    "if settings['save_flag']:\n",
    "    pickle.dump(audit_results, file = open(settings['audit_file'], 'wb'), protocol=2)"
   ]
  },
  {
   "cell_type": "markdown",
   "metadata": {},
   "source": [
    "# Plots"
   ]
  },
  {
   "cell_type": "code",
   "execution_count": 39,
   "metadata": {},
   "outputs": [],
   "source": [
    "save_figs = False"
   ]
  },
  {
   "cell_type": "markdown",
   "metadata": {},
   "source": [
    "## Error plot path for models (Figure 2, top left)"
   ]
  },
  {
   "cell_type": "code",
   "execution_count": 56,
   "metadata": {},
   "outputs": [
    {
     "data": {
      "image/png": "[encoded data removed]",
      "text/plain": [
       "<Figure size 432x432 with 1 Axes>"
      ]
     },
     "metadata": {
      "needs_background": "light"
     },
     "output_type": "display_data"
    }
   ],
   "source": [
    "## plotting performance vs. l1 penalty\n",
    "train_error = model_stats_df.groupby('param 0: C')['train_score'].aggregate(['mean', 'var'])\n",
    "test_error = model_stats_df.groupby('param 0: C')['test_score'].aggregate(['mean', 'var'])\n",
    "\n",
    "ax = test_error.pipe(lambda df:\n",
    "    (-df['mean']).plot(label='test error', color='black', figsize=(6, 6))\n",
    ")\n",
    "ax.errorbar(test_error.index, -test_error['mean'], yerr=test_error['var'], fmt='o', color='black')\n",
    "ax.set_facecolor('white')\n",
    "ax.spines['top'].set_visible(False)\n",
    "ax.spines['right'].set_visible(False)\n",
    "\n",
    "# formatting\n",
    "y_ticks = list(plt.yticks()[0])\n",
    "y_tick_labels = list(map(lambda x: '%.02f' % (x * 100) + '%', y_ticks))\n",
    "plt.semilogx(basex=10)\n",
    "plt.yticks(y_ticks[::2], y_tick_labels[::2])\n",
    "#\n",
    "ax.set_ylabel('10-CV Mean Test Error')\n",
    "ax.set_xlabel(xlabel)\n",
    "if save_figs:\n",
    "    plt.savefig('%s_error_path.pdf' % settings['file_header'], bbox_inches='tight')\n",
    "    plt.close()"
   ]
  },
  {
   "cell_type": "markdown",
   "metadata": {},
   "source": [
    "## Number of Non-zero Coefficients (Figure 2, top-right)"
   ]
  },
  {
   "cell_type": "code",
   "execution_count": 16,
   "metadata": {},
   "outputs": [
    {
     "data": {
      "image/png": "[encoded data removed]",
      "text/plain": [
       "<Figure size 432x432 with 1 Axes>"
      ]
     },
     "metadata": {
      "needs_background": "light"
     },
     "output_type": "display_data"
    }
   ],
   "source": [
    "# plotting # of coefficients vs. l1 penalty...\n",
    "# get binary counts and sums\n",
    "coef_df = get_coefficient_df(all_models, variable_names = data['X'].columns.tolist())\n",
    "nnz_coef_df = (coef_df\n",
    "    .apply(lambda x: ~np.isclose(x, 0, atol=5e-3))\n",
    ")\n",
    "# cache how many features are nonzero for each classifier\n",
    "non_zero_sum = nnz_coef_df.sum().rename(lambda x: 1./float(x.split('_')[1]))\n",
    "non_zero_sum_actionable = (nnz_coef_df\n",
    "                           .pipe(lambda df: df.loc[~df.index.isin(immutable_names)])\n",
    "                           .sum()\n",
    "                           ).rename(lambda x: 1./float(x.split('_')[1]))\n",
    "\n",
    "# plot # of non zero coefficients\n",
    "ax = non_zero_sum.plot(marker='o', label = 'All Variables', figsize=(6, 6))\n",
    "ax = non_zero_sum_actionable.plot(ax= ax, marker='o', label='Actionable Variables')\n",
    "\n",
    "ax.spines['top'].set_visible(False)\n",
    "ax.spines['right'].set_visible(False)\n",
    "\n",
    "ax.semilogx()\n",
    "ax.set_yticks(list(map(int, ax.get_yticks())))\n",
    "ax.set_facecolor('white')\n",
    "ax.set_xlabel(xlabel)\n",
    "ax.set_ylim((0, max(non_zero_sum.max(), non_zero_sum_actionable.max())*1.2))\n",
    "ax.set_ylabel('# of Non-Zero Coefficients')\n",
    "ax.legend(frameon = True)\n",
    "if save_figs:\n",
    "    f.savefig('%s_regularization_path.pdf' % settings['file_header'])\n",
    "    plt.close()"
   ]
  },
  {
   "cell_type": "markdown",
   "metadata": {},
   "source": [
    "## % Individuals without Recourse (Figure 2, bottom left)"
   ]
  },
  {
   "cell_type": "code",
   "execution_count": 12,
   "metadata": {},
   "outputs": [
    {
     "data": {
      "image/png": "[encoded data removed]",
      "text/plain": [
       "<Figure size 432x432 with 1 Axes>"
      ]
     },
     "metadata": {
      "needs_background": "light"
     },
     "output_type": "display_data"
    }
   ],
   "source": [
    "if settings['method_name'] == 'logreg':\n",
    "    xlabel = '$\\ell_1$-penalty (log scale)'\n",
    "else:\n",
    "    xlabel = '$C$-penalty (log scale)'\n",
    "# percent of points without recourse\n",
    "feasibility_df = {}\n",
    "obj_val = {}\n",
    "\n",
    "for model_name in sorted(audit_results):\n",
    "    recourse_df = pd.DataFrame(audit_results[model_name])\n",
    "    recourse_cost = recourse_df.loc[lambda df: df.feasible.notnull()].loc[:, 'cost']\n",
    "    feasibility_df[model_name] = recourse_df['feasible'].mean()\n",
    "    obj_val[model_name] = recourse_cost.mean()\n",
    "\n",
    "# feasibility plot\n",
    "f, ax = create_figure(fig_size = (6, 6))\n",
    "t_found = pd.Series(feasibility_df)\n",
    "t_found.plot(ax = ax, color = 'black', marker='o')\n",
    "plt.semilogx()\n",
    "ax.set_xlabel(xlabel)\n",
    "ax.set_ylabel('% of Individuals with Recourse')\n",
    "ax.set_ylim(0, 1.02)\n",
    "ax.yaxis.set_major_formatter(mtick.PercentFormatter(1.0, decimals = 0))\n",
    "ax = fix_font_sizes(ax)\n",
    "if save_figs:\n",
    "    f.savefig('%s_recourse_feasibility.pdf' % settings['audit_file_header'], bbox_inches = 'tight')"
   ]
  },
  {
   "cell_type": "markdown",
   "metadata": {},
   "source": [
    "## Cost of Recourse (Figure 2, bottom right)"
   ]
  },
  {
   "cell_type": "code",
   "execution_count": 13,
   "metadata": {},
   "outputs": [
    {
     "data": {
      "image/png": "[encoded data removed]",
      "text/plain": [
       "<Figure size 432x432 with 1 Axes>"
      ]
     },
     "metadata": {
      "needs_background": "light"
     },
     "output_type": "display_data"
    }
   ],
   "source": [
    "cost_df = {k: pd.DataFrame(v) for k, v in audit_results.items()}\n",
    "cost_df = pd.concat([cost_df[k]['cost'].to_frame('%f' % k) for k in sorted(cost_df.keys())], axis=1).replace([-np.inf, np.inf], np.nan)\n",
    "\n",
    "# plot cost distribution\n",
    "f, ax = create_figure(fig_size = (6, 6))\n",
    "sns.violinplot(data = cost_df, ax = ax, linewidth = 0.5, cut = 0, inner = 'quartile', color = \"gold\", scale = 'width')\n",
    "ax.set_xlabel(xlabel)\n",
    "ax.set_ylabel('Cost of Recourse')\n",
    "ax.set_ylim(bottom = 0, top = 1)\n",
    "xtick_labels = []\n",
    "for xt in ax.get_xticklabels():\n",
    "    v = np.log10(float(xt.get_text()))\n",
    "    label = '$10^{%.0f}$' % v if v == np.round(v, 0) else ' '\n",
    "    xtick_labels.append(label)\n",
    "ax.set_xticklabels(xtick_labels)\n",
    "\n",
    "for l in ax.lines:\n",
    "    l.set_linewidth(3.0)\n",
    "    l.set_linestyle('-')\n",
    "    l.set_solid_capstyle('butt')\n",
    "\n",
    "ax = fix_font_sizes(ax)\n",
    "if save_figs:\n",
    "    f.savefig('%s_recourse_cost_distribution.pdf' % settings['audit_file_header'], bbox_inches = 'tight')\n",
    "    plt.close()"
   ]
  }
 ],
 "metadata": {
  "hide_input": false,
  "kernelspec": {
   "display_name": "Python 3",
   "language": "python",
   "name": "python3"
  },
  "language_info": {
   "codemirror_mode": {
    "name": "ipython",
    "version": 3
   },
   "file_extension": ".py",
   "mimetype": "text/x-python",
   "name": "python",
   "nbconvert_exporter": "python",
   "pygments_lexer": "ipython3",
   "version": "3.6.8"
  }
 },
 "nbformat": 4,
 "nbformat_minor": 2
}
